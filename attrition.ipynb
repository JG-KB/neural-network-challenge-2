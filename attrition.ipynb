{
  "cells": [
    {
      "cell_type": "markdown",
      "metadata": {
        "id": "alIIEHibGc3M"
      },
      "source": [
        "## Part 1: Preprocessing"
      ]
    },
    {
      "cell_type": "code",
      "execution_count": 1,
      "metadata": {
        "colab": {
          "base_uri": "https://localhost:8080/",
          "height": 325
        },
        "id": "6eDUJ4NtGc3P",
        "outputId": "2480098c-135c-4cbf-9552-018494ee8ff5"
      },
      "outputs": [
        {
          "data": {
            "text/html": [
              "<div>\n",
              "<style scoped>\n",
              "    .dataframe tbody tr th:only-of-type {\n",
              "        vertical-align: middle;\n",
              "    }\n",
              "\n",
              "    .dataframe tbody tr th {\n",
              "        vertical-align: top;\n",
              "    }\n",
              "\n",
              "    .dataframe thead th {\n",
              "        text-align: right;\n",
              "    }\n",
              "</style>\n",
              "<table border=\"1\" class=\"dataframe\">\n",
              "  <thead>\n",
              "    <tr style=\"text-align: right;\">\n",
              "      <th></th>\n",
              "      <th>Age</th>\n",
              "      <th>Attrition</th>\n",
              "      <th>BusinessTravel</th>\n",
              "      <th>Department</th>\n",
              "      <th>DistanceFromHome</th>\n",
              "      <th>Education</th>\n",
              "      <th>EducationField</th>\n",
              "      <th>EnvironmentSatisfaction</th>\n",
              "      <th>HourlyRate</th>\n",
              "      <th>JobInvolvement</th>\n",
              "      <th>...</th>\n",
              "      <th>PerformanceRating</th>\n",
              "      <th>RelationshipSatisfaction</th>\n",
              "      <th>StockOptionLevel</th>\n",
              "      <th>TotalWorkingYears</th>\n",
              "      <th>TrainingTimesLastYear</th>\n",
              "      <th>WorkLifeBalance</th>\n",
              "      <th>YearsAtCompany</th>\n",
              "      <th>YearsInCurrentRole</th>\n",
              "      <th>YearsSinceLastPromotion</th>\n",
              "      <th>YearsWithCurrManager</th>\n",
              "    </tr>\n",
              "  </thead>\n",
              "  <tbody>\n",
              "    <tr>\n",
              "      <th>0</th>\n",
              "      <td>41</td>\n",
              "      <td>Yes</td>\n",
              "      <td>Travel_Rarely</td>\n",
              "      <td>Sales</td>\n",
              "      <td>1</td>\n",
              "      <td>2</td>\n",
              "      <td>Life Sciences</td>\n",
              "      <td>2</td>\n",
              "      <td>94</td>\n",
              "      <td>3</td>\n",
              "      <td>...</td>\n",
              "      <td>3</td>\n",
              "      <td>1</td>\n",
              "      <td>0</td>\n",
              "      <td>8</td>\n",
              "      <td>0</td>\n",
              "      <td>1</td>\n",
              "      <td>6</td>\n",
              "      <td>4</td>\n",
              "      <td>0</td>\n",
              "      <td>5</td>\n",
              "    </tr>\n",
              "    <tr>\n",
              "      <th>1</th>\n",
              "      <td>49</td>\n",
              "      <td>No</td>\n",
              "      <td>Travel_Frequently</td>\n",
              "      <td>Research &amp; Development</td>\n",
              "      <td>8</td>\n",
              "      <td>1</td>\n",
              "      <td>Life Sciences</td>\n",
              "      <td>3</td>\n",
              "      <td>61</td>\n",
              "      <td>2</td>\n",
              "      <td>...</td>\n",
              "      <td>4</td>\n",
              "      <td>4</td>\n",
              "      <td>1</td>\n",
              "      <td>10</td>\n",
              "      <td>3</td>\n",
              "      <td>3</td>\n",
              "      <td>10</td>\n",
              "      <td>7</td>\n",
              "      <td>1</td>\n",
              "      <td>7</td>\n",
              "    </tr>\n",
              "    <tr>\n",
              "      <th>2</th>\n",
              "      <td>37</td>\n",
              "      <td>Yes</td>\n",
              "      <td>Travel_Rarely</td>\n",
              "      <td>Research &amp; Development</td>\n",
              "      <td>2</td>\n",
              "      <td>2</td>\n",
              "      <td>Other</td>\n",
              "      <td>4</td>\n",
              "      <td>92</td>\n",
              "      <td>2</td>\n",
              "      <td>...</td>\n",
              "      <td>3</td>\n",
              "      <td>2</td>\n",
              "      <td>0</td>\n",
              "      <td>7</td>\n",
              "      <td>3</td>\n",
              "      <td>3</td>\n",
              "      <td>0</td>\n",
              "      <td>0</td>\n",
              "      <td>0</td>\n",
              "      <td>0</td>\n",
              "    </tr>\n",
              "    <tr>\n",
              "      <th>3</th>\n",
              "      <td>33</td>\n",
              "      <td>No</td>\n",
              "      <td>Travel_Frequently</td>\n",
              "      <td>Research &amp; Development</td>\n",
              "      <td>3</td>\n",
              "      <td>4</td>\n",
              "      <td>Life Sciences</td>\n",
              "      <td>4</td>\n",
              "      <td>56</td>\n",
              "      <td>3</td>\n",
              "      <td>...</td>\n",
              "      <td>3</td>\n",
              "      <td>3</td>\n",
              "      <td>0</td>\n",
              "      <td>8</td>\n",
              "      <td>3</td>\n",
              "      <td>3</td>\n",
              "      <td>8</td>\n",
              "      <td>7</td>\n",
              "      <td>3</td>\n",
              "      <td>0</td>\n",
              "    </tr>\n",
              "    <tr>\n",
              "      <th>4</th>\n",
              "      <td>27</td>\n",
              "      <td>No</td>\n",
              "      <td>Travel_Rarely</td>\n",
              "      <td>Research &amp; Development</td>\n",
              "      <td>2</td>\n",
              "      <td>1</td>\n",
              "      <td>Medical</td>\n",
              "      <td>1</td>\n",
              "      <td>40</td>\n",
              "      <td>3</td>\n",
              "      <td>...</td>\n",
              "      <td>3</td>\n",
              "      <td>4</td>\n",
              "      <td>1</td>\n",
              "      <td>6</td>\n",
              "      <td>3</td>\n",
              "      <td>3</td>\n",
              "      <td>2</td>\n",
              "      <td>2</td>\n",
              "      <td>2</td>\n",
              "      <td>2</td>\n",
              "    </tr>\n",
              "  </tbody>\n",
              "</table>\n",
              "<p>5 rows × 27 columns</p>\n",
              "</div>"
            ],
            "text/plain": [
              "   Age Attrition     BusinessTravel              Department  DistanceFromHome  \\\n",
              "0   41       Yes      Travel_Rarely                   Sales                 1   \n",
              "1   49        No  Travel_Frequently  Research & Development                 8   \n",
              "2   37       Yes      Travel_Rarely  Research & Development                 2   \n",
              "3   33        No  Travel_Frequently  Research & Development                 3   \n",
              "4   27        No      Travel_Rarely  Research & Development                 2   \n",
              "\n",
              "   Education EducationField  EnvironmentSatisfaction  HourlyRate  \\\n",
              "0          2  Life Sciences                        2          94   \n",
              "1          1  Life Sciences                        3          61   \n",
              "2          2          Other                        4          92   \n",
              "3          4  Life Sciences                        4          56   \n",
              "4          1        Medical                        1          40   \n",
              "\n",
              "   JobInvolvement  ...  PerformanceRating RelationshipSatisfaction  \\\n",
              "0               3  ...                  3                        1   \n",
              "1               2  ...                  4                        4   \n",
              "2               2  ...                  3                        2   \n",
              "3               3  ...                  3                        3   \n",
              "4               3  ...                  3                        4   \n",
              "\n",
              "   StockOptionLevel TotalWorkingYears  TrainingTimesLastYear WorkLifeBalance  \\\n",
              "0                 0                 8                      0               1   \n",
              "1                 1                10                      3               3   \n",
              "2                 0                 7                      3               3   \n",
              "3                 0                 8                      3               3   \n",
              "4                 1                 6                      3               3   \n",
              "\n",
              "   YearsAtCompany  YearsInCurrentRole  YearsSinceLastPromotion  \\\n",
              "0               6                   4                        0   \n",
              "1              10                   7                        1   \n",
              "2               0                   0                        0   \n",
              "3               8                   7                        3   \n",
              "4               2                   2                        2   \n",
              "\n",
              "   YearsWithCurrManager  \n",
              "0                     5  \n",
              "1                     7  \n",
              "2                     0  \n",
              "3                     0  \n",
              "4                     2  \n",
              "\n",
              "[5 rows x 27 columns]"
            ]
          },
          "execution_count": 1,
          "metadata": {},
          "output_type": "execute_result"
        }
      ],
      "source": [
        "# Import our dependencies\n",
        "from sklearn.model_selection import train_test_split\n",
        "from sklearn.preprocessing import StandardScaler\n",
        "import pandas as pd\n",
        "import numpy as np\n",
        "from tensorflow.keras.models import Model\n",
        "from tensorflow.keras import layers\n",
        "\n",
        "#  Import and read the attrition data\n",
        "attrition_df = pd.read_csv('https://static.bc-edx.com/ai/ail-v-1-0/m19/lms/datasets/attrition.csv')\n",
        "attrition_df.head()"
      ]
    },
    {
      "cell_type": "code",
      "execution_count": 2,
      "metadata": {
        "colab": {
          "base_uri": "https://localhost:8080/"
        },
        "id": "g22aQSY4Gc3Q",
        "outputId": "1f5c13c1-b981-4e40-a7ed-dd3fe6f1b81e"
      },
      "outputs": [
        {
          "data": {
            "text/plain": [
              "Age                         43\n",
              "Attrition                    2\n",
              "BusinessTravel               3\n",
              "Department                   3\n",
              "DistanceFromHome            29\n",
              "Education                    5\n",
              "EducationField               6\n",
              "EnvironmentSatisfaction      4\n",
              "HourlyRate                  71\n",
              "JobInvolvement               4\n",
              "JobLevel                     5\n",
              "JobRole                      9\n",
              "JobSatisfaction              4\n",
              "MaritalStatus                3\n",
              "NumCompaniesWorked          10\n",
              "OverTime                     2\n",
              "PercentSalaryHike           15\n",
              "PerformanceRating            2\n",
              "RelationshipSatisfaction     4\n",
              "StockOptionLevel             4\n",
              "TotalWorkingYears           40\n",
              "TrainingTimesLastYear        7\n",
              "WorkLifeBalance              4\n",
              "YearsAtCompany              37\n",
              "YearsInCurrentRole          19\n",
              "YearsSinceLastPromotion     16\n",
              "YearsWithCurrManager        18\n",
              "dtype: int64"
            ]
          },
          "execution_count": 2,
          "metadata": {},
          "output_type": "execute_result"
        }
      ],
      "source": [
        "# Determine the number of unique values in each column.\n",
        "attrition_df.nunique()"
      ]
    },
    {
      "cell_type": "code",
      "execution_count": 3,
      "metadata": {
        "id": "50vMgBEnJbfM"
      },
      "outputs": [],
      "source": [
        "# Create y_df with the Attrition and Department columns\n",
        "y_df = attrition_df[['Attrition', 'Department']]\n",
        "\n"
      ]
    },
    {
      "cell_type": "code",
      "execution_count": 4,
      "metadata": {},
      "outputs": [
        {
          "data": {
            "text/plain": [
              "Education                   int64\n",
              "Age                         int64\n",
              "DistanceFromHome            int64\n",
              "JobSatisfaction             int64\n",
              "OverTime                   object\n",
              "StockOptionLevel            int64\n",
              "WorkLifeBalance             int64\n",
              "YearsAtCompany              int64\n",
              "YearsSinceLastPromotion     int64\n",
              "NumCompaniesWorked          int64\n",
              "dtype: object"
            ]
          },
          "execution_count": 4,
          "metadata": {},
          "output_type": "execute_result"
        }
      ],
      "source": [
        "# Create a list of at least 10 column names to use as X data\n",
        "selected_columns = ['Education', 'Age', 'DistanceFromHome', 'JobSatisfaction', 'OverTime','StockOptionLevel','WorkLifeBalance','YearsAtCompany','YearsSinceLastPromotion','NumCompaniesWorked']\n",
        "\n",
        "\n",
        "\n",
        "# Create X_df using your selected columns\n",
        "X_df = attrition_df[selected_columns]\n",
        "\n",
        "\n",
        "# Show the data types for X_df\n",
        "X_df.dtypes\n",
        "\n"
      ]
    },
    {
      "cell_type": "code",
      "execution_count": 5,
      "metadata": {},
      "outputs": [
        {
          "name": "stderr",
          "output_type": "stream",
          "text": [
            "C:\\Users\\14192\\AppData\\Local\\Temp\\ipykernel_3248\\565398822.py:3: FutureWarning: Downcasting behavior in `replace` is deprecated and will be removed in a future version. To retain the old behavior, explicitly call `result.infer_objects(copy=False)`. To opt-in to the future behavior, set `pd.set_option('future.no_silent_downcasting', True)`\n",
            "  X_df['OverTime'] = X_df['OverTime'].replace({'Yes': 1, 'No': 0})\n",
            "C:\\Users\\14192\\AppData\\Local\\Temp\\ipykernel_3248\\565398822.py:3: SettingWithCopyWarning: \n",
            "A value is trying to be set on a copy of a slice from a DataFrame.\n",
            "Try using .loc[row_indexer,col_indexer] = value instead\n",
            "\n",
            "See the caveats in the documentation: https://pandas.pydata.org/pandas-docs/stable/user_guide/indexing.html#returning-a-view-versus-a-copy\n",
            "  X_df['OverTime'] = X_df['OverTime'].replace({'Yes': 1, 'No': 0})\n"
          ]
        }
      ],
      "source": [
        "# Convert your X data to numeric data types however you see fit\n",
        "#convert Overtime to an int64\n",
        "X_df['OverTime'] = X_df['OverTime'].replace({'Yes': 1, 'No': 0})\n"
      ]
    },
    {
      "cell_type": "code",
      "execution_count": 6,
      "metadata": {},
      "outputs": [
        {
          "data": {
            "text/plain": [
              "OverTime\n",
              "0    1054\n",
              "1     416\n",
              "Name: count, dtype: int64"
            ]
          },
          "execution_count": 6,
          "metadata": {},
          "output_type": "execute_result"
        }
      ],
      "source": [
        "X_df['OverTime'].value_counts()"
      ]
    },
    {
      "cell_type": "code",
      "execution_count": 7,
      "metadata": {},
      "outputs": [
        {
          "data": {
            "text/plain": [
              "Education                  int64\n",
              "Age                        int64\n",
              "DistanceFromHome           int64\n",
              "JobSatisfaction            int64\n",
              "OverTime                   int64\n",
              "StockOptionLevel           int64\n",
              "WorkLifeBalance            int64\n",
              "YearsAtCompany             int64\n",
              "YearsSinceLastPromotion    int64\n",
              "NumCompaniesWorked         int64\n",
              "dtype: object"
            ]
          },
          "execution_count": 7,
          "metadata": {},
          "output_type": "execute_result"
        }
      ],
      "source": [
        "X_df.dtypes\n"
      ]
    },
    {
      "cell_type": "code",
      "execution_count": 8,
      "metadata": {
        "id": "KaJfdOGUMHMR"
      },
      "outputs": [],
      "source": [
        "# Split the data into training and testing sets\n",
        "from sklearn.model_selection import train_test_split\n",
        "X_train, X_test, y_train, y_test = train_test_split(X_df, y_df, random_state=42)\n",
        "\n"
      ]
    },
    {
      "cell_type": "code",
      "execution_count": 9,
      "metadata": {
        "id": "EWA-aIA5Gc3T"
      },
      "outputs": [],
      "source": [
        "# Create a StandardScaler\n",
        "scaler = StandardScaler()\n",
        "\n",
        "\n",
        "# Fit the StandardScaler to the training data\n",
        "X_scaler = scaler.fit(X_train)\n",
        "\n",
        "\n",
        "# Scale the training and testing data\n",
        "X_train_scaled = X_scaler.transform(X_train)\n",
        "X_test_scaled = X_scaler.transform(X_test)\n",
        "\n"
      ]
    },
    {
      "cell_type": "code",
      "execution_count": 10,
      "metadata": {
        "colab": {
          "base_uri": "https://localhost:8080/"
        },
        "id": "-z0Mky8vQSz4",
        "outputId": "debefc85-c20b-48f5-f4d9-91eadd65d36a"
      },
      "outputs": [],
      "source": [
        "# Create a OneHotEncoder for the Department column\n",
        "from sklearn.preprocessing import OneHotEncoder\n",
        "encoder = OneHotEncoder(sparse_output=False)\n",
        "\n",
        "\n",
        "# Fit the encoder to the training data\n",
        "encoder.fit_transform(y_train[['Department']])\n",
        "\n",
        "\n",
        "# Create two new variables by applying the encoder\n",
        "# to the training and testing data\n",
        "y_dept_train_encoded = encoder.transform(y_train[['Department']])\n",
        "y_dept_test_encoded = encoder.transform(y_test[['Department']])\n",
        "\n",
        "\n"
      ]
    },
    {
      "cell_type": "code",
      "execution_count": 11,
      "metadata": {},
      "outputs": [
        {
          "data": {
            "text/plain": [
              "array([[0., 1., 0.],\n",
              "       [0., 0., 1.],\n",
              "       [0., 0., 1.],\n",
              "       ...,\n",
              "       [0., 1., 0.],\n",
              "       [0., 1., 0.],\n",
              "       [0., 0., 1.]])"
            ]
          },
          "execution_count": 11,
          "metadata": {},
          "output_type": "execute_result"
        }
      ],
      "source": [
        "y_dept_train_encoded"
      ]
    },
    {
      "cell_type": "code",
      "execution_count": 12,
      "metadata": {},
      "outputs": [
        {
          "data": {
            "text/plain": [
              "array([[0., 0., 1.],\n",
              "       [0., 1., 0.],\n",
              "       [1., 0., 0.],\n",
              "       ...,\n",
              "       [0., 1., 0.],\n",
              "       [1., 0., 0.],\n",
              "       [0., 1., 0.]])"
            ]
          },
          "execution_count": 12,
          "metadata": {},
          "output_type": "execute_result"
        }
      ],
      "source": [
        "y_dept_test_encoded"
      ]
    },
    {
      "cell_type": "code",
      "execution_count": 13,
      "metadata": {
        "colab": {
          "base_uri": "https://localhost:8080/"
        },
        "id": "-G4DSpvFRrk4",
        "outputId": "9842e948-8a55-4b80-8fac-f96714e85589"
      },
      "outputs": [
        {
          "data": {
            "text/plain": [
              "array([[0.],\n",
              "       [0.],\n",
              "       [1.],\n",
              "       [0.],\n",
              "       [0.],\n",
              "       [0.],\n",
              "       [0.],\n",
              "       [0.],\n",
              "       [0.],\n",
              "       [0.],\n",
              "       [0.],\n",
              "       [0.],\n",
              "       [0.],\n",
              "       [0.],\n",
              "       [0.],\n",
              "       [0.],\n",
              "       [0.],\n",
              "       [1.],\n",
              "       [1.],\n",
              "       [0.],\n",
              "       [1.],\n",
              "       [0.],\n",
              "       [0.],\n",
              "       [0.],\n",
              "       [0.],\n",
              "       [0.],\n",
              "       [0.],\n",
              "       [0.],\n",
              "       [0.],\n",
              "       [0.],\n",
              "       [0.],\n",
              "       [0.],\n",
              "       [0.],\n",
              "       [0.],\n",
              "       [1.],\n",
              "       [0.],\n",
              "       [0.],\n",
              "       [1.],\n",
              "       [1.],\n",
              "       [0.],\n",
              "       [0.],\n",
              "       [0.],\n",
              "       [0.],\n",
              "       [0.],\n",
              "       [1.],\n",
              "       [0.],\n",
              "       [1.],\n",
              "       [1.],\n",
              "       [1.],\n",
              "       [1.],\n",
              "       [0.],\n",
              "       [0.],\n",
              "       [0.],\n",
              "       [0.],\n",
              "       [0.],\n",
              "       [0.],\n",
              "       [0.],\n",
              "       [0.],\n",
              "       [0.],\n",
              "       [0.],\n",
              "       [0.],\n",
              "       [1.],\n",
              "       [1.],\n",
              "       [0.],\n",
              "       [1.],\n",
              "       [1.],\n",
              "       [0.],\n",
              "       [0.],\n",
              "       [0.],\n",
              "       [0.],\n",
              "       [0.],\n",
              "       [0.],\n",
              "       [0.],\n",
              "       [0.],\n",
              "       [0.],\n",
              "       [0.],\n",
              "       [0.],\n",
              "       [0.],\n",
              "       [0.],\n",
              "       [0.],\n",
              "       [0.],\n",
              "       [0.],\n",
              "       [0.],\n",
              "       [0.],\n",
              "       [1.],\n",
              "       [0.],\n",
              "       [0.],\n",
              "       [0.],\n",
              "       [0.],\n",
              "       [0.],\n",
              "       [0.],\n",
              "       [0.],\n",
              "       [0.],\n",
              "       [0.],\n",
              "       [0.],\n",
              "       [0.],\n",
              "       [0.],\n",
              "       [0.],\n",
              "       [0.],\n",
              "       [0.],\n",
              "       [0.],\n",
              "       [0.],\n",
              "       [1.],\n",
              "       [0.],\n",
              "       [0.],\n",
              "       [0.],\n",
              "       [0.],\n",
              "       [0.],\n",
              "       [0.],\n",
              "       [0.],\n",
              "       [1.],\n",
              "       [0.],\n",
              "       [0.],\n",
              "       [0.],\n",
              "       [0.],\n",
              "       [0.],\n",
              "       [0.],\n",
              "       [0.],\n",
              "       [0.],\n",
              "       [0.],\n",
              "       [0.],\n",
              "       [0.],\n",
              "       [0.],\n",
              "       [0.],\n",
              "       [0.],\n",
              "       [1.],\n",
              "       [0.],\n",
              "       [1.],\n",
              "       [0.],\n",
              "       [0.],\n",
              "       [0.],\n",
              "       [0.],\n",
              "       [0.],\n",
              "       [1.],\n",
              "       [0.],\n",
              "       [0.],\n",
              "       [0.],\n",
              "       [1.],\n",
              "       [0.],\n",
              "       [0.],\n",
              "       [0.],\n",
              "       [0.],\n",
              "       [0.],\n",
              "       [0.],\n",
              "       [0.],\n",
              "       [0.],\n",
              "       [0.],\n",
              "       [1.],\n",
              "       [0.],\n",
              "       [1.],\n",
              "       [0.],\n",
              "       [1.],\n",
              "       [0.],\n",
              "       [1.],\n",
              "       [0.],\n",
              "       [1.],\n",
              "       [0.],\n",
              "       [0.],\n",
              "       [0.],\n",
              "       [0.],\n",
              "       [1.],\n",
              "       [0.],\n",
              "       [0.],\n",
              "       [0.],\n",
              "       [0.],\n",
              "       [0.],\n",
              "       [0.],\n",
              "       [0.],\n",
              "       [0.],\n",
              "       [0.],\n",
              "       [0.],\n",
              "       [0.],\n",
              "       [0.],\n",
              "       [0.],\n",
              "       [0.],\n",
              "       [0.],\n",
              "       [0.],\n",
              "       [0.],\n",
              "       [0.],\n",
              "       [0.],\n",
              "       [0.],\n",
              "       [0.],\n",
              "       [0.],\n",
              "       [0.],\n",
              "       [0.],\n",
              "       [0.],\n",
              "       [0.],\n",
              "       [0.],\n",
              "       [1.],\n",
              "       [0.],\n",
              "       [0.],\n",
              "       [0.],\n",
              "       [0.],\n",
              "       [0.],\n",
              "       [0.],\n",
              "       [0.],\n",
              "       [0.],\n",
              "       [0.],\n",
              "       [0.],\n",
              "       [0.],\n",
              "       [0.],\n",
              "       [0.],\n",
              "       [0.],\n",
              "       [0.],\n",
              "       [0.],\n",
              "       [0.],\n",
              "       [0.],\n",
              "       [0.],\n",
              "       [0.],\n",
              "       [0.],\n",
              "       [0.],\n",
              "       [1.],\n",
              "       [0.],\n",
              "       [0.],\n",
              "       [0.],\n",
              "       [0.],\n",
              "       [0.],\n",
              "       [0.],\n",
              "       [0.],\n",
              "       [0.],\n",
              "       [0.],\n",
              "       [1.],\n",
              "       [0.],\n",
              "       [1.],\n",
              "       [0.],\n",
              "       [0.],\n",
              "       [0.],\n",
              "       [0.],\n",
              "       [0.],\n",
              "       [0.],\n",
              "       [0.],\n",
              "       [1.],\n",
              "       [0.],\n",
              "       [0.],\n",
              "       [0.],\n",
              "       [0.],\n",
              "       [0.],\n",
              "       [1.],\n",
              "       [0.],\n",
              "       [0.],\n",
              "       [1.],\n",
              "       [0.],\n",
              "       [1.],\n",
              "       [0.],\n",
              "       [0.],\n",
              "       [0.],\n",
              "       [0.],\n",
              "       [0.],\n",
              "       [0.],\n",
              "       [0.],\n",
              "       [0.],\n",
              "       [0.],\n",
              "       [0.],\n",
              "       [0.],\n",
              "       [0.],\n",
              "       [0.],\n",
              "       [0.],\n",
              "       [1.],\n",
              "       [0.],\n",
              "       [0.],\n",
              "       [0.],\n",
              "       [0.],\n",
              "       [0.],\n",
              "       [0.],\n",
              "       [0.],\n",
              "       [0.],\n",
              "       [0.],\n",
              "       [0.],\n",
              "       [0.],\n",
              "       [0.],\n",
              "       [0.],\n",
              "       [0.],\n",
              "       [0.],\n",
              "       [1.],\n",
              "       [0.],\n",
              "       [0.],\n",
              "       [0.],\n",
              "       [0.],\n",
              "       [0.],\n",
              "       [0.],\n",
              "       [0.],\n",
              "       [0.],\n",
              "       [0.],\n",
              "       [0.],\n",
              "       [0.],\n",
              "       [0.],\n",
              "       [0.],\n",
              "       [0.],\n",
              "       [0.],\n",
              "       [0.],\n",
              "       [0.],\n",
              "       [0.],\n",
              "       [0.],\n",
              "       [0.],\n",
              "       [0.],\n",
              "       [0.],\n",
              "       [0.],\n",
              "       [0.],\n",
              "       [0.],\n",
              "       [0.],\n",
              "       [0.],\n",
              "       [0.],\n",
              "       [0.],\n",
              "       [0.],\n",
              "       [0.],\n",
              "       [0.],\n",
              "       [0.],\n",
              "       [0.],\n",
              "       [0.],\n",
              "       [1.],\n",
              "       [1.],\n",
              "       [0.],\n",
              "       [0.],\n",
              "       [0.],\n",
              "       [0.],\n",
              "       [0.],\n",
              "       [0.],\n",
              "       [0.],\n",
              "       [0.],\n",
              "       [0.],\n",
              "       [0.],\n",
              "       [0.],\n",
              "       [0.],\n",
              "       [0.],\n",
              "       [0.],\n",
              "       [0.],\n",
              "       [0.],\n",
              "       [1.],\n",
              "       [0.],\n",
              "       [0.],\n",
              "       [0.],\n",
              "       [0.],\n",
              "       [0.],\n",
              "       [0.],\n",
              "       [0.],\n",
              "       [1.],\n",
              "       [0.],\n",
              "       [0.],\n",
              "       [0.],\n",
              "       [0.],\n",
              "       [0.],\n",
              "       [0.],\n",
              "       [0.],\n",
              "       [0.],\n",
              "       [0.],\n",
              "       [0.],\n",
              "       [1.],\n",
              "       [0.],\n",
              "       [1.],\n",
              "       [0.],\n",
              "       [0.],\n",
              "       [0.],\n",
              "       [0.],\n",
              "       [0.],\n",
              "       [0.],\n",
              "       [0.],\n",
              "       [0.],\n",
              "       [1.],\n",
              "       [0.],\n",
              "       [0.],\n",
              "       [0.],\n",
              "       [1.],\n",
              "       [1.],\n",
              "       [0.],\n",
              "       [0.],\n",
              "       [0.],\n",
              "       [0.],\n",
              "       [0.]])"
            ]
          },
          "execution_count": 13,
          "metadata": {},
          "output_type": "execute_result"
        }
      ],
      "source": [
        "# Create a OneHotEncoder for the Attrition column\n",
        "encoder = OneHotEncoder(sparse_output=False, drop='first')\n",
        "\n",
        "\n",
        "# Fit the encoder to the training data\n",
        "encoder.fit_transform(y_train[['Attrition']])\n",
        "\n",
        "\n",
        "# Create two new variables by applying the encoder\n",
        "# to the training and testing data\n",
        "y_att_train_encoded = encoder.transform(y_train[['Attrition']])\n",
        "y_att_test_encoded = encoder.transform(y_test[['Attrition']])\n",
        "y_att_train_encoded\n",
        "y_att_test_encoded\n",
        "\n"
      ]
    },
    {
      "cell_type": "markdown",
      "metadata": {
        "id": "ykNmu_WWGc3T"
      },
      "source": [
        "## Create, Compile, and Train the Model"
      ]
    },
    {
      "cell_type": "code",
      "execution_count": 14,
      "metadata": {
        "id": "WUptZqmSGc3T"
      },
      "outputs": [],
      "source": [
        "# Find the number of columns in the X training data\n",
        "X_train.shape[1]\n",
        "\n",
        "\n",
        "# Create the input layer\n",
        "input_layer = layers.Input(shape=(X_train.shape[1],), name=\"input\")\n",
        "\n",
        "\n",
        "# Create at least two shared layers\n",
        "shared1 = layers.Dense(units=64, activation='relu', name=\"shared1\")(input_layer)\n",
        "shared2 = layers.Dense(units=128, activation='relu', name=\"shared2\")(shared1)\n"
      ]
    },
    {
      "cell_type": "code",
      "execution_count": 15,
      "metadata": {
        "id": "JukjTm2yTEqd"
      },
      "outputs": [],
      "source": [
        "# Create a branch for Department\n",
        "# with a hidden layer and an output layer\n",
        "\n",
        "# Create the hidden layer\n",
        "department_hidden = layers.Dense(units=32, activation='relu', name=\"department_hidden\")(shared2)\n",
        "\n",
        "\n",
        "# Create the output layer\n",
        "department_output = layers.Dense(units=3, activation='softmax', name=\"department_output\")(department_hidden)\n",
        "\n"
      ]
    },
    {
      "cell_type": "code",
      "execution_count": 16,
      "metadata": {
        "id": "9OqhUiOJUBkR"
      },
      "outputs": [],
      "source": [
        "# Create a branch for Attrition\n",
        "# with a hidden layer and an output layer\n",
        "\n",
        "# Create the hidden layer\n",
        "attrition_hidden = layers.Dense(units=32, activation='relu', name=\"attrition_hidden\")(shared2)\n",
        "\n",
        "\n",
        "# Create the output layer\n",
        "attrition_output = layers.Dense(units=1, activation='sigmoid', name=\"attrition_output\")(attrition_hidden)\n",
        "\n"
      ]
    },
    {
      "cell_type": "code",
      "execution_count": 17,
      "metadata": {},
      "outputs": [
        {
          "name": "stdout",
          "output_type": "stream",
          "text": [
            "[[0. 1. 0.]\n",
            " [0. 0. 1.]\n",
            " [0. 0. 1.]\n",
            " [0. 0. 1.]\n",
            " [0. 0. 1.]]\n",
            "[[0.]\n",
            " [0.]\n",
            " [0.]\n",
            " [0.]\n",
            " [0.]]\n"
          ]
        }
      ],
      "source": [
        "print(y_dept_train_encoded[:5])  # Should display an array of one-hot encoded values\n",
        "print(y_att_train_encoded[:5])  # Should display binary or one-hot encoded values\n"
      ]
    },
    {
      "cell_type": "code",
      "execution_count": 18,
      "metadata": {
        "colab": {
          "base_uri": "https://localhost:8080/"
        },
        "id": "twmuejdxGc3T",
        "outputId": "25096308-b68b-42e4-e4ea-ae82e97c435a"
      },
      "outputs": [
        {
          "data": {
            "text/html": [
              "<pre style=\"white-space:pre;overflow-x:auto;line-height:normal;font-family:Menlo,'DejaVu Sans Mono',consolas,'Courier New',monospace\"><span style=\"font-weight: bold\">Model: \"functional\"</span>\n",
              "</pre>\n"
            ],
            "text/plain": [
              "\u001b[1mModel: \"functional\"\u001b[0m\n"
            ]
          },
          "metadata": {},
          "output_type": "display_data"
        },
        {
          "data": {
            "text/html": [
              "<pre style=\"white-space:pre;overflow-x:auto;line-height:normal;font-family:Menlo,'DejaVu Sans Mono',consolas,'Courier New',monospace\">┏━━━━━━━━━━━━━━━━━━━━━┳━━━━━━━━━━━━━━━━━━━┳━━━━━━━━━━━━┳━━━━━━━━━━━━━━━━━━━┓\n",
              "┃<span style=\"font-weight: bold\"> Layer (type)        </span>┃<span style=\"font-weight: bold\"> Output Shape      </span>┃<span style=\"font-weight: bold\">    Param # </span>┃<span style=\"font-weight: bold\"> Connected to      </span>┃\n",
              "┡━━━━━━━━━━━━━━━━━━━━━╇━━━━━━━━━━━━━━━━━━━╇━━━━━━━━━━━━╇━━━━━━━━━━━━━━━━━━━┩\n",
              "│ input (<span style=\"color: #0087ff; text-decoration-color: #0087ff\">InputLayer</span>)  │ (<span style=\"color: #00d7ff; text-decoration-color: #00d7ff\">None</span>, <span style=\"color: #00af00; text-decoration-color: #00af00\">10</span>)        │          <span style=\"color: #00af00; text-decoration-color: #00af00\">0</span> │ -                 │\n",
              "├─────────────────────┼───────────────────┼────────────┼───────────────────┤\n",
              "│ shared1 (<span style=\"color: #0087ff; text-decoration-color: #0087ff\">Dense</span>)     │ (<span style=\"color: #00d7ff; text-decoration-color: #00d7ff\">None</span>, <span style=\"color: #00af00; text-decoration-color: #00af00\">64</span>)        │        <span style=\"color: #00af00; text-decoration-color: #00af00\">704</span> │ input[<span style=\"color: #00af00; text-decoration-color: #00af00\">0</span>][<span style=\"color: #00af00; text-decoration-color: #00af00\">0</span>]       │\n",
              "├─────────────────────┼───────────────────┼────────────┼───────────────────┤\n",
              "│ shared2 (<span style=\"color: #0087ff; text-decoration-color: #0087ff\">Dense</span>)     │ (<span style=\"color: #00d7ff; text-decoration-color: #00d7ff\">None</span>, <span style=\"color: #00af00; text-decoration-color: #00af00\">128</span>)       │      <span style=\"color: #00af00; text-decoration-color: #00af00\">8,320</span> │ shared1[<span style=\"color: #00af00; text-decoration-color: #00af00\">0</span>][<span style=\"color: #00af00; text-decoration-color: #00af00\">0</span>]     │\n",
              "├─────────────────────┼───────────────────┼────────────┼───────────────────┤\n",
              "│ department_hidden   │ (<span style=\"color: #00d7ff; text-decoration-color: #00d7ff\">None</span>, <span style=\"color: #00af00; text-decoration-color: #00af00\">32</span>)        │      <span style=\"color: #00af00; text-decoration-color: #00af00\">4,128</span> │ shared2[<span style=\"color: #00af00; text-decoration-color: #00af00\">0</span>][<span style=\"color: #00af00; text-decoration-color: #00af00\">0</span>]     │\n",
              "│ (<span style=\"color: #0087ff; text-decoration-color: #0087ff\">Dense</span>)             │                   │            │                   │\n",
              "├─────────────────────┼───────────────────┼────────────┼───────────────────┤\n",
              "│ attrition_hidden    │ (<span style=\"color: #00d7ff; text-decoration-color: #00d7ff\">None</span>, <span style=\"color: #00af00; text-decoration-color: #00af00\">32</span>)        │      <span style=\"color: #00af00; text-decoration-color: #00af00\">4,128</span> │ shared2[<span style=\"color: #00af00; text-decoration-color: #00af00\">0</span>][<span style=\"color: #00af00; text-decoration-color: #00af00\">0</span>]     │\n",
              "│ (<span style=\"color: #0087ff; text-decoration-color: #0087ff\">Dense</span>)             │                   │            │                   │\n",
              "├─────────────────────┼───────────────────┼────────────┼───────────────────┤\n",
              "│ department_output   │ (<span style=\"color: #00d7ff; text-decoration-color: #00d7ff\">None</span>, <span style=\"color: #00af00; text-decoration-color: #00af00\">3</span>)         │         <span style=\"color: #00af00; text-decoration-color: #00af00\">99</span> │ department_hidde… │\n",
              "│ (<span style=\"color: #0087ff; text-decoration-color: #0087ff\">Dense</span>)             │                   │            │                   │\n",
              "├─────────────────────┼───────────────────┼────────────┼───────────────────┤\n",
              "│ attrition_output    │ (<span style=\"color: #00d7ff; text-decoration-color: #00d7ff\">None</span>, <span style=\"color: #00af00; text-decoration-color: #00af00\">1</span>)         │         <span style=\"color: #00af00; text-decoration-color: #00af00\">33</span> │ attrition_hidden… │\n",
              "│ (<span style=\"color: #0087ff; text-decoration-color: #0087ff\">Dense</span>)             │                   │            │                   │\n",
              "└─────────────────────┴───────────────────┴────────────┴───────────────────┘\n",
              "</pre>\n"
            ],
            "text/plain": [
              "┏━━━━━━━━━━━━━━━━━━━━━┳━━━━━━━━━━━━━━━━━━━┳━━━━━━━━━━━━┳━━━━━━━━━━━━━━━━━━━┓\n",
              "┃\u001b[1m \u001b[0m\u001b[1mLayer (type)       \u001b[0m\u001b[1m \u001b[0m┃\u001b[1m \u001b[0m\u001b[1mOutput Shape     \u001b[0m\u001b[1m \u001b[0m┃\u001b[1m \u001b[0m\u001b[1m   Param #\u001b[0m\u001b[1m \u001b[0m┃\u001b[1m \u001b[0m\u001b[1mConnected to     \u001b[0m\u001b[1m \u001b[0m┃\n",
              "┡━━━━━━━━━━━━━━━━━━━━━╇━━━━━━━━━━━━━━━━━━━╇━━━━━━━━━━━━╇━━━━━━━━━━━━━━━━━━━┩\n",
              "│ input (\u001b[38;5;33mInputLayer\u001b[0m)  │ (\u001b[38;5;45mNone\u001b[0m, \u001b[38;5;34m10\u001b[0m)        │          \u001b[38;5;34m0\u001b[0m │ -                 │\n",
              "├─────────────────────┼───────────────────┼────────────┼───────────────────┤\n",
              "│ shared1 (\u001b[38;5;33mDense\u001b[0m)     │ (\u001b[38;5;45mNone\u001b[0m, \u001b[38;5;34m64\u001b[0m)        │        \u001b[38;5;34m704\u001b[0m │ input[\u001b[38;5;34m0\u001b[0m][\u001b[38;5;34m0\u001b[0m]       │\n",
              "├─────────────────────┼───────────────────┼────────────┼───────────────────┤\n",
              "│ shared2 (\u001b[38;5;33mDense\u001b[0m)     │ (\u001b[38;5;45mNone\u001b[0m, \u001b[38;5;34m128\u001b[0m)       │      \u001b[38;5;34m8,320\u001b[0m │ shared1[\u001b[38;5;34m0\u001b[0m][\u001b[38;5;34m0\u001b[0m]     │\n",
              "├─────────────────────┼───────────────────┼────────────┼───────────────────┤\n",
              "│ department_hidden   │ (\u001b[38;5;45mNone\u001b[0m, \u001b[38;5;34m32\u001b[0m)        │      \u001b[38;5;34m4,128\u001b[0m │ shared2[\u001b[38;5;34m0\u001b[0m][\u001b[38;5;34m0\u001b[0m]     │\n",
              "│ (\u001b[38;5;33mDense\u001b[0m)             │                   │            │                   │\n",
              "├─────────────────────┼───────────────────┼────────────┼───────────────────┤\n",
              "│ attrition_hidden    │ (\u001b[38;5;45mNone\u001b[0m, \u001b[38;5;34m32\u001b[0m)        │      \u001b[38;5;34m4,128\u001b[0m │ shared2[\u001b[38;5;34m0\u001b[0m][\u001b[38;5;34m0\u001b[0m]     │\n",
              "│ (\u001b[38;5;33mDense\u001b[0m)             │                   │            │                   │\n",
              "├─────────────────────┼───────────────────┼────────────┼───────────────────┤\n",
              "│ department_output   │ (\u001b[38;5;45mNone\u001b[0m, \u001b[38;5;34m3\u001b[0m)         │         \u001b[38;5;34m99\u001b[0m │ department_hidde… │\n",
              "│ (\u001b[38;5;33mDense\u001b[0m)             │                   │            │                   │\n",
              "├─────────────────────┼───────────────────┼────────────┼───────────────────┤\n",
              "│ attrition_output    │ (\u001b[38;5;45mNone\u001b[0m, \u001b[38;5;34m1\u001b[0m)         │         \u001b[38;5;34m33\u001b[0m │ attrition_hidden… │\n",
              "│ (\u001b[38;5;33mDense\u001b[0m)             │                   │            │                   │\n",
              "└─────────────────────┴───────────────────┴────────────┴───────────────────┘\n"
            ]
          },
          "metadata": {},
          "output_type": "display_data"
        },
        {
          "data": {
            "text/html": [
              "<pre style=\"white-space:pre;overflow-x:auto;line-height:normal;font-family:Menlo,'DejaVu Sans Mono',consolas,'Courier New',monospace\"><span style=\"font-weight: bold\"> Total params: </span><span style=\"color: #00af00; text-decoration-color: #00af00\">17,412</span> (68.02 KB)\n",
              "</pre>\n"
            ],
            "text/plain": [
              "\u001b[1m Total params: \u001b[0m\u001b[38;5;34m17,412\u001b[0m (68.02 KB)\n"
            ]
          },
          "metadata": {},
          "output_type": "display_data"
        },
        {
          "data": {
            "text/html": [
              "<pre style=\"white-space:pre;overflow-x:auto;line-height:normal;font-family:Menlo,'DejaVu Sans Mono',consolas,'Courier New',monospace\"><span style=\"font-weight: bold\"> Trainable params: </span><span style=\"color: #00af00; text-decoration-color: #00af00\">17,412</span> (68.02 KB)\n",
              "</pre>\n"
            ],
            "text/plain": [
              "\u001b[1m Trainable params: \u001b[0m\u001b[38;5;34m17,412\u001b[0m (68.02 KB)\n"
            ]
          },
          "metadata": {},
          "output_type": "display_data"
        },
        {
          "data": {
            "text/html": [
              "<pre style=\"white-space:pre;overflow-x:auto;line-height:normal;font-family:Menlo,'DejaVu Sans Mono',consolas,'Courier New',monospace\"><span style=\"font-weight: bold\"> Non-trainable params: </span><span style=\"color: #00af00; text-decoration-color: #00af00\">0</span> (0.00 B)\n",
              "</pre>\n"
            ],
            "text/plain": [
              "\u001b[1m Non-trainable params: \u001b[0m\u001b[38;5;34m0\u001b[0m (0.00 B)\n"
            ]
          },
          "metadata": {},
          "output_type": "display_data"
        }
      ],
      "source": [
        "# Create the model\n",
        "\n",
        "model = Model(\n",
        "    inputs=input_layer,\n",
        "    outputs=[department_output, attrition_output]\n",
        ")\n",
        "\n",
        "# Compile the model\n",
        "model.compile(\n",
        "    optimizer='adam',\n",
        "    loss={\n",
        "        'department_output': 'categorical_crossentropy',  # Multi-class classification\n",
        "        'attrition_output': 'binary_crossentropy'        # Binary classification\n",
        "    },\n",
        "    metrics={\n",
        "        'department_output': 'accuracy',\n",
        "        'attrition_output': 'accuracy'\n",
        "    }\n",
        ")\n",
        "\n",
        "\n",
        "\n",
        "# Summarize the model\n",
        "model.summary()\n"
      ]
    },
    {
      "cell_type": "code",
      "execution_count": 19,
      "metadata": {},
      "outputs": [
        {
          "name": "stdout",
          "output_type": "stream",
          "text": [
            "(1102, 10)\n"
          ]
        }
      ],
      "source": [
        "print(X_train_scaled.shape)\n"
      ]
    },
    {
      "cell_type": "code",
      "execution_count": 20,
      "metadata": {},
      "outputs": [
        {
          "name": "stdout",
          "output_type": "stream",
          "text": [
            "(1102, 3)\n",
            "(1102, 1)\n"
          ]
        }
      ],
      "source": [
        "print(y_dept_train_encoded.shape)  # Should match `department_output` units\n",
        "print(y_att_train_encoded.shape)  # Should be (samples, 1)\n"
      ]
    },
    {
      "cell_type": "code",
      "execution_count": 21,
      "metadata": {
        "colab": {
          "base_uri": "https://localhost:8080/"
        },
        "id": "c8oGy0dpGc3U",
        "outputId": "cc667d43-28cf-42d4-d719-c2bc02888d30"
      },
      "outputs": [
        {
          "name": "stdout",
          "output_type": "stream",
          "text": [
            "Epoch 1/100\n"
          ]
        },
        {
          "name": "stderr",
          "output_type": "stream",
          "text": [
            "c:\\Users\\14192\\Apps\\anaconda3\\envs\\dev\\lib\\site-packages\\keras\\src\\models\\functional.py:238: UserWarning: The structure of `inputs` doesn't match the expected structure.\n",
            "Expected: input\n",
            "Received: inputs=['Tensor(shape=(None, 10))']\n",
            "  warnings.warn(msg)\n"
          ]
        },
        {
          "name": "stdout",
          "output_type": "stream",
          "text": [
            "\u001b[1m35/35\u001b[0m \u001b[32m━━━━━━━━━━━━━━━━━━━━\u001b[0m\u001b[37m\u001b[0m \u001b[1m5s\u001b[0m 32ms/step - attrition_output_accuracy: 0.7791 - attrition_output_loss: 0.5724 - department_output_accuracy: 0.6273 - department_output_loss: 0.8946 - loss: 1.4670 - val_attrition_output_accuracy: 0.8696 - val_attrition_output_loss: 0.3896 - val_department_output_accuracy: 0.6522 - val_department_output_loss: 0.8152 - val_loss: 1.1936\n",
            "Epoch 2/100\n",
            "\u001b[1m35/35\u001b[0m \u001b[32m━━━━━━━━━━━━━━━━━━━━\u001b[0m\u001b[37m\u001b[0m \u001b[1m0s\u001b[0m 10ms/step - attrition_output_accuracy: 0.8508 - attrition_output_loss: 0.4040 - department_output_accuracy: 0.6571 - department_output_loss: 0.7583 - loss: 1.1625 - val_attrition_output_accuracy: 0.8723 - val_attrition_output_loss: 0.3702 - val_department_output_accuracy: 0.6522 - val_department_output_loss: 0.8132 - val_loss: 1.1751\n",
            "Epoch 3/100\n",
            "\u001b[1m35/35\u001b[0m \u001b[32m━━━━━━━━━━━━━━━━━━━━\u001b[0m\u001b[37m\u001b[0m \u001b[1m0s\u001b[0m 7ms/step - attrition_output_accuracy: 0.8473 - attrition_output_loss: 0.3831 - department_output_accuracy: 0.6454 - department_output_loss: 0.7902 - loss: 1.1736 - val_attrition_output_accuracy: 0.8777 - val_attrition_output_loss: 0.3497 - val_department_output_accuracy: 0.6522 - val_department_output_loss: 0.8118 - val_loss: 1.1521\n",
            "Epoch 4/100\n",
            "\u001b[1m35/35\u001b[0m \u001b[32m━━━━━━━━━━━━━━━━━━━━\u001b[0m\u001b[37m\u001b[0m \u001b[1m0s\u001b[0m 7ms/step - attrition_output_accuracy: 0.8375 - attrition_output_loss: 0.3875 - department_output_accuracy: 0.6582 - department_output_loss: 0.7513 - loss: 1.1389 - val_attrition_output_accuracy: 0.8886 - val_attrition_output_loss: 0.3462 - val_department_output_accuracy: 0.6522 - val_department_output_loss: 0.8138 - val_loss: 1.1510\n",
            "Epoch 5/100\n",
            "\u001b[1m35/35\u001b[0m \u001b[32m━━━━━━━━━━━━━━━━━━━━\u001b[0m\u001b[37m\u001b[0m \u001b[1m0s\u001b[0m 10ms/step - attrition_output_accuracy: 0.8536 - attrition_output_loss: 0.3788 - department_output_accuracy: 0.6267 - department_output_loss: 0.7751 - loss: 1.1541 - val_attrition_output_accuracy: 0.8913 - val_attrition_output_loss: 0.3440 - val_department_output_accuracy: 0.6522 - val_department_output_loss: 0.8148 - val_loss: 1.1500\n",
            "Epoch 6/100\n",
            "\u001b[1m35/35\u001b[0m \u001b[32m━━━━━━━━━━━━━━━━━━━━\u001b[0m\u001b[37m\u001b[0m \u001b[1m0s\u001b[0m 10ms/step - attrition_output_accuracy: 0.8431 - attrition_output_loss: 0.3777 - department_output_accuracy: 0.6537 - department_output_loss: 0.7430 - loss: 1.1203 - val_attrition_output_accuracy: 0.8832 - val_attrition_output_loss: 0.3422 - val_department_output_accuracy: 0.6522 - val_department_output_loss: 0.8170 - val_loss: 1.1501\n",
            "Epoch 7/100\n",
            "\u001b[1m35/35\u001b[0m \u001b[32m━━━━━━━━━━━━━━━━━━━━\u001b[0m\u001b[37m\u001b[0m \u001b[1m0s\u001b[0m 7ms/step - attrition_output_accuracy: 0.8672 - attrition_output_loss: 0.3276 - department_output_accuracy: 0.6607 - department_output_loss: 0.7178 - loss: 1.0455 - val_attrition_output_accuracy: 0.8614 - val_attrition_output_loss: 0.3712 - val_department_output_accuracy: 0.6495 - val_department_output_loss: 0.8165 - val_loss: 1.1783\n",
            "Epoch 8/100\n",
            "\u001b[1m35/35\u001b[0m \u001b[32m━━━━━━━━━━━━━━━━━━━━\u001b[0m\u001b[37m\u001b[0m \u001b[1m0s\u001b[0m 7ms/step - attrition_output_accuracy: 0.8518 - attrition_output_loss: 0.3635 - department_output_accuracy: 0.6642 - department_output_loss: 0.7152 - loss: 1.0788 - val_attrition_output_accuracy: 0.8723 - val_attrition_output_loss: 0.3384 - val_department_output_accuracy: 0.6522 - val_department_output_loss: 0.8152 - val_loss: 1.1436\n",
            "Epoch 9/100\n",
            "\u001b[1m35/35\u001b[0m \u001b[32m━━━━━━━━━━━━━━━━━━━━\u001b[0m\u001b[37m\u001b[0m \u001b[1m0s\u001b[0m 9ms/step - attrition_output_accuracy: 0.8523 - attrition_output_loss: 0.3391 - department_output_accuracy: 0.6600 - department_output_loss: 0.7230 - loss: 1.0621 - val_attrition_output_accuracy: 0.8859 - val_attrition_output_loss: 0.3398 - val_department_output_accuracy: 0.6495 - val_department_output_loss: 0.8211 - val_loss: 1.1524\n",
            "Epoch 10/100\n",
            "\u001b[1m35/35\u001b[0m \u001b[32m━━━━━━━━━━━━━━━━━━━━\u001b[0m\u001b[37m\u001b[0m \u001b[1m0s\u001b[0m 8ms/step - attrition_output_accuracy: 0.8761 - attrition_output_loss: 0.3118 - department_output_accuracy: 0.6810 - department_output_loss: 0.6830 - loss: 0.9948 - val_attrition_output_accuracy: 0.8777 - val_attrition_output_loss: 0.3497 - val_department_output_accuracy: 0.6549 - val_department_output_loss: 0.8201 - val_loss: 1.1605\n",
            "Epoch 11/100\n",
            "\u001b[1m35/35\u001b[0m \u001b[32m━━━━━━━━━━━━━━━━━━━━\u001b[0m\u001b[37m\u001b[0m \u001b[1m0s\u001b[0m 7ms/step - attrition_output_accuracy: 0.8642 - attrition_output_loss: 0.3413 - department_output_accuracy: 0.6836 - department_output_loss: 0.6944 - loss: 1.0356 - val_attrition_output_accuracy: 0.8832 - val_attrition_output_loss: 0.3492 - val_department_output_accuracy: 0.6359 - val_department_output_loss: 0.8345 - val_loss: 1.1758\n",
            "Epoch 12/100\n",
            "\u001b[1m35/35\u001b[0m \u001b[32m━━━━━━━━━━━━━━━━━━━━\u001b[0m\u001b[37m\u001b[0m \u001b[1m0s\u001b[0m 7ms/step - attrition_output_accuracy: 0.8743 - attrition_output_loss: 0.3312 - department_output_accuracy: 0.6634 - department_output_loss: 0.7301 - loss: 1.0615 - val_attrition_output_accuracy: 0.8777 - val_attrition_output_loss: 0.3441 - val_department_output_accuracy: 0.6467 - val_department_output_loss: 0.8360 - val_loss: 1.1692\n",
            "Epoch 13/100\n",
            "\u001b[1m35/35\u001b[0m \u001b[32m━━━━━━━━━━━━━━━━━━━━\u001b[0m\u001b[37m\u001b[0m \u001b[1m0s\u001b[0m 8ms/step - attrition_output_accuracy: 0.8736 - attrition_output_loss: 0.3094 - department_output_accuracy: 0.6796 - department_output_loss: 0.6780 - loss: 0.9874 - val_attrition_output_accuracy: 0.8886 - val_attrition_output_loss: 0.3494 - val_department_output_accuracy: 0.6141 - val_department_output_loss: 0.8419 - val_loss: 1.1845\n",
            "Epoch 14/100\n",
            "\u001b[1m35/35\u001b[0m \u001b[32m━━━━━━━━━━━━━━━━━━━━\u001b[0m\u001b[37m\u001b[0m \u001b[1m0s\u001b[0m 8ms/step - attrition_output_accuracy: 0.8715 - attrition_output_loss: 0.3046 - department_output_accuracy: 0.6813 - department_output_loss: 0.6835 - loss: 0.9880 - val_attrition_output_accuracy: 0.8859 - val_attrition_output_loss: 0.3422 - val_department_output_accuracy: 0.6467 - val_department_output_loss: 0.8298 - val_loss: 1.1632\n",
            "Epoch 15/100\n",
            "\u001b[1m35/35\u001b[0m \u001b[32m━━━━━━━━━━━━━━━━━━━━\u001b[0m\u001b[37m\u001b[0m \u001b[1m0s\u001b[0m 10ms/step - attrition_output_accuracy: 0.8906 - attrition_output_loss: 0.2866 - department_output_accuracy: 0.7034 - department_output_loss: 0.6597 - loss: 0.9465 - val_attrition_output_accuracy: 0.8777 - val_attrition_output_loss: 0.3548 - val_department_output_accuracy: 0.6413 - val_department_output_loss: 0.8430 - val_loss: 1.1888\n",
            "Epoch 16/100\n",
            "\u001b[1m35/35\u001b[0m \u001b[32m━━━━━━━━━━━━━━━━━━━━\u001b[0m\u001b[37m\u001b[0m \u001b[1m0s\u001b[0m 9ms/step - attrition_output_accuracy: 0.8919 - attrition_output_loss: 0.2776 - department_output_accuracy: 0.6843 - department_output_loss: 0.6655 - loss: 0.9430 - val_attrition_output_accuracy: 0.8696 - val_attrition_output_loss: 0.3665 - val_department_output_accuracy: 0.6549 - val_department_output_loss: 0.8695 - val_loss: 1.2246\n",
            "Epoch 17/100\n",
            "\u001b[1m35/35\u001b[0m \u001b[32m━━━━━━━━━━━━━━━━━━━━\u001b[0m\u001b[37m\u001b[0m \u001b[1m0s\u001b[0m 7ms/step - attrition_output_accuracy: 0.8891 - attrition_output_loss: 0.2801 - department_output_accuracy: 0.6843 - department_output_loss: 0.6480 - loss: 0.9283 - val_attrition_output_accuracy: 0.8832 - val_attrition_output_loss: 0.3525 - val_department_output_accuracy: 0.6495 - val_department_output_loss: 0.8530 - val_loss: 1.1964\n",
            "Epoch 18/100\n",
            "\u001b[1m35/35\u001b[0m \u001b[32m━━━━━━━━━━━━━━━━━━━━\u001b[0m\u001b[37m\u001b[0m \u001b[1m0s\u001b[0m 7ms/step - attrition_output_accuracy: 0.8957 - attrition_output_loss: 0.2610 - department_output_accuracy: 0.7049 - department_output_loss: 0.6206 - loss: 0.8815 - val_attrition_output_accuracy: 0.8777 - val_attrition_output_loss: 0.3654 - val_department_output_accuracy: 0.6168 - val_department_output_loss: 0.8701 - val_loss: 1.2265\n",
            "Epoch 19/100\n",
            "\u001b[1m35/35\u001b[0m \u001b[32m━━━━━━━━━━━━━━━━━━━━\u001b[0m\u001b[37m\u001b[0m \u001b[1m0s\u001b[0m 7ms/step - attrition_output_accuracy: 0.9123 - attrition_output_loss: 0.2523 - department_output_accuracy: 0.7269 - department_output_loss: 0.6394 - loss: 0.8918 - val_attrition_output_accuracy: 0.8696 - val_attrition_output_loss: 0.3720 - val_department_output_accuracy: 0.6495 - val_department_output_loss: 0.8744 - val_loss: 1.2354\n",
            "Epoch 20/100\n",
            "\u001b[1m35/35\u001b[0m \u001b[32m━━━━━━━━━━━━━━━━━━━━\u001b[0m\u001b[37m\u001b[0m \u001b[1m0s\u001b[0m 7ms/step - attrition_output_accuracy: 0.8939 - attrition_output_loss: 0.2557 - department_output_accuracy: 0.7300 - department_output_loss: 0.5927 - loss: 0.8484 - val_attrition_output_accuracy: 0.8804 - val_attrition_output_loss: 0.3691 - val_department_output_accuracy: 0.6250 - val_department_output_loss: 0.8912 - val_loss: 1.2523\n",
            "Epoch 21/100\n",
            "\u001b[1m35/35\u001b[0m \u001b[32m━━━━━━━━━━━━━━━━━━━━\u001b[0m\u001b[37m\u001b[0m \u001b[1m0s\u001b[0m 8ms/step - attrition_output_accuracy: 0.9159 - attrition_output_loss: 0.2507 - department_output_accuracy: 0.7355 - department_output_loss: 0.6000 - loss: 0.8506 - val_attrition_output_accuracy: 0.8696 - val_attrition_output_loss: 0.3765 - val_department_output_accuracy: 0.6033 - val_department_output_loss: 0.8791 - val_loss: 1.2441\n",
            "Epoch 22/100\n",
            "\u001b[1m35/35\u001b[0m \u001b[32m━━━━━━━━━━━━━━━━━━━━\u001b[0m\u001b[37m\u001b[0m \u001b[1m0s\u001b[0m 8ms/step - attrition_output_accuracy: 0.9145 - attrition_output_loss: 0.2381 - department_output_accuracy: 0.7698 - department_output_loss: 0.5537 - loss: 0.7917 - val_attrition_output_accuracy: 0.8533 - val_attrition_output_loss: 0.3917 - val_department_output_accuracy: 0.5842 - val_department_output_loss: 0.8996 - val_loss: 1.2830\n",
            "Epoch 23/100\n",
            "\u001b[1m35/35\u001b[0m \u001b[32m━━━━━━━━━━━━━━━━━━━━\u001b[0m\u001b[37m\u001b[0m \u001b[1m0s\u001b[0m 7ms/step - attrition_output_accuracy: 0.9102 - attrition_output_loss: 0.2371 - department_output_accuracy: 0.7458 - department_output_loss: 0.5775 - loss: 0.8146 - val_attrition_output_accuracy: 0.8668 - val_attrition_output_loss: 0.3816 - val_department_output_accuracy: 0.6413 - val_department_output_loss: 0.9338 - val_loss: 1.3047\n",
            "Epoch 24/100\n",
            "\u001b[1m35/35\u001b[0m \u001b[32m━━━━━━━━━━━━━━━━━━━━\u001b[0m\u001b[37m\u001b[0m \u001b[1m0s\u001b[0m 7ms/step - attrition_output_accuracy: 0.9072 - attrition_output_loss: 0.2303 - department_output_accuracy: 0.7464 - department_output_loss: 0.5621 - loss: 0.7924 - val_attrition_output_accuracy: 0.8777 - val_attrition_output_loss: 0.3910 - val_department_output_accuracy: 0.6277 - val_department_output_loss: 0.9308 - val_loss: 1.3125\n",
            "Epoch 25/100\n",
            "\u001b[1m35/35\u001b[0m \u001b[32m━━━━━━━━━━━━━━━━━━━━\u001b[0m\u001b[37m\u001b[0m \u001b[1m0s\u001b[0m 10ms/step - attrition_output_accuracy: 0.9055 - attrition_output_loss: 0.2239 - department_output_accuracy: 0.7829 - department_output_loss: 0.5453 - loss: 0.7691 - val_attrition_output_accuracy: 0.8723 - val_attrition_output_loss: 0.3952 - val_department_output_accuracy: 0.6277 - val_department_output_loss: 0.9514 - val_loss: 1.3363\n",
            "Epoch 26/100\n",
            "\u001b[1m35/35\u001b[0m \u001b[32m━━━━━━━━━━━━━━━━━━━━\u001b[0m\u001b[37m\u001b[0m \u001b[1m0s\u001b[0m 8ms/step - attrition_output_accuracy: 0.9213 - attrition_output_loss: 0.2095 - department_output_accuracy: 0.7770 - department_output_loss: 0.5213 - loss: 0.7308 - val_attrition_output_accuracy: 0.8641 - val_attrition_output_loss: 0.4041 - val_department_output_accuracy: 0.5842 - val_department_output_loss: 0.9418 - val_loss: 1.3413\n",
            "Epoch 27/100\n",
            "\u001b[1m35/35\u001b[0m \u001b[32m━━━━━━━━━━━━━━━━━━━━\u001b[0m\u001b[37m\u001b[0m \u001b[1m0s\u001b[0m 8ms/step - attrition_output_accuracy: 0.9207 - attrition_output_loss: 0.2194 - department_output_accuracy: 0.8020 - department_output_loss: 0.4938 - loss: 0.7129 - val_attrition_output_accuracy: 0.8804 - val_attrition_output_loss: 0.4078 - val_department_output_accuracy: 0.6033 - val_department_output_loss: 0.9803 - val_loss: 1.3822\n",
            "Epoch 28/100\n",
            "\u001b[1m35/35\u001b[0m \u001b[32m━━━━━━━━━━━━━━━━━━━━\u001b[0m\u001b[37m\u001b[0m \u001b[1m0s\u001b[0m 7ms/step - attrition_output_accuracy: 0.9094 - attrition_output_loss: 0.2198 - department_output_accuracy: 0.8024 - department_output_loss: 0.4860 - loss: 0.7056 - val_attrition_output_accuracy: 0.8641 - val_attrition_output_loss: 0.4245 - val_department_output_accuracy: 0.6277 - val_department_output_loss: 0.9934 - val_loss: 1.4064\n",
            "Epoch 29/100\n",
            "\u001b[1m35/35\u001b[0m \u001b[32m━━━━━━━━━━━━━━━━━━━━\u001b[0m\u001b[37m\u001b[0m \u001b[1m0s\u001b[0m 9ms/step - attrition_output_accuracy: 0.9091 - attrition_output_loss: 0.2211 - department_output_accuracy: 0.7809 - department_output_loss: 0.4871 - loss: 0.7084 - val_attrition_output_accuracy: 0.8614 - val_attrition_output_loss: 0.4320 - val_department_output_accuracy: 0.6223 - val_department_output_loss: 1.0115 - val_loss: 1.4369\n",
            "Epoch 30/100\n",
            "\u001b[1m35/35\u001b[0m \u001b[32m━━━━━━━━━━━━━━━━━━━━\u001b[0m\u001b[37m\u001b[0m \u001b[1m0s\u001b[0m 8ms/step - attrition_output_accuracy: 0.9314 - attrition_output_loss: 0.1970 - department_output_accuracy: 0.7723 - department_output_loss: 0.4942 - loss: 0.6913 - val_attrition_output_accuracy: 0.8560 - val_attrition_output_loss: 0.4560 - val_department_output_accuracy: 0.6005 - val_department_output_loss: 1.0164 - val_loss: 1.4609\n",
            "Epoch 31/100\n",
            "\u001b[1m35/35\u001b[0m \u001b[32m━━━━━━━━━━━━━━━━━━━━\u001b[0m\u001b[37m\u001b[0m \u001b[1m0s\u001b[0m 7ms/step - attrition_output_accuracy: 0.9248 - attrition_output_loss: 0.1891 - department_output_accuracy: 0.8223 - department_output_loss: 0.4429 - loss: 0.6319 - val_attrition_output_accuracy: 0.8750 - val_attrition_output_loss: 0.4376 - val_department_output_accuracy: 0.5571 - val_department_output_loss: 1.0101 - val_loss: 1.4390\n",
            "Epoch 32/100\n",
            "\u001b[1m35/35\u001b[0m \u001b[32m━━━━━━━━━━━━━━━━━━━━\u001b[0m\u001b[37m\u001b[0m \u001b[1m0s\u001b[0m 8ms/step - attrition_output_accuracy: 0.9295 - attrition_output_loss: 0.1846 - department_output_accuracy: 0.8285 - department_output_loss: 0.4412 - loss: 0.6260 - val_attrition_output_accuracy: 0.8587 - val_attrition_output_loss: 0.4470 - val_department_output_accuracy: 0.5815 - val_department_output_loss: 1.0176 - val_loss: 1.4589\n",
            "Epoch 33/100\n",
            "\u001b[1m35/35\u001b[0m \u001b[32m━━━━━━━━━━━━━━━━━━━━\u001b[0m\u001b[37m\u001b[0m \u001b[1m0s\u001b[0m 8ms/step - attrition_output_accuracy: 0.9357 - attrition_output_loss: 0.1804 - department_output_accuracy: 0.8462 - department_output_loss: 0.4053 - loss: 0.5855 - val_attrition_output_accuracy: 0.8478 - val_attrition_output_loss: 0.4843 - val_department_output_accuracy: 0.5353 - val_department_output_loss: 1.0321 - val_loss: 1.5106\n",
            "Epoch 34/100\n",
            "\u001b[1m35/35\u001b[0m \u001b[32m━━━━━━━━━━━━━━━━━━━━\u001b[0m\u001b[37m\u001b[0m \u001b[1m0s\u001b[0m 7ms/step - attrition_output_accuracy: 0.9272 - attrition_output_loss: 0.2102 - department_output_accuracy: 0.8516 - department_output_loss: 0.4044 - loss: 0.6144 - val_attrition_output_accuracy: 0.8560 - val_attrition_output_loss: 0.4680 - val_department_output_accuracy: 0.5761 - val_department_output_loss: 1.0808 - val_loss: 1.5356\n",
            "Epoch 35/100\n",
            "\u001b[1m35/35\u001b[0m \u001b[32m━━━━━━━━━━━━━━━━━━━━\u001b[0m\u001b[37m\u001b[0m \u001b[1m0s\u001b[0m 10ms/step - attrition_output_accuracy: 0.9420 - attrition_output_loss: 0.1666 - department_output_accuracy: 0.8423 - department_output_loss: 0.4036 - loss: 0.5704 - val_attrition_output_accuracy: 0.8614 - val_attrition_output_loss: 0.4854 - val_department_output_accuracy: 0.5652 - val_department_output_loss: 1.1051 - val_loss: 1.5781\n",
            "Epoch 36/100\n",
            "\u001b[1m35/35\u001b[0m \u001b[32m━━━━━━━━━━━━━━━━━━━━\u001b[0m\u001b[37m\u001b[0m \u001b[1m0s\u001b[0m 8ms/step - attrition_output_accuracy: 0.9278 - attrition_output_loss: 0.1781 - department_output_accuracy: 0.8366 - department_output_loss: 0.3978 - loss: 0.5761 - val_attrition_output_accuracy: 0.8750 - val_attrition_output_loss: 0.4746 - val_department_output_accuracy: 0.5625 - val_department_output_loss: 1.1079 - val_loss: 1.5742\n",
            "Epoch 37/100\n",
            "\u001b[1m35/35\u001b[0m \u001b[32m━━━━━━━━━━━━━━━━━━━━\u001b[0m\u001b[37m\u001b[0m \u001b[1m0s\u001b[0m 12ms/step - attrition_output_accuracy: 0.9385 - attrition_output_loss: 0.1586 - department_output_accuracy: 0.8750 - department_output_loss: 0.3664 - loss: 0.5250 - val_attrition_output_accuracy: 0.8370 - val_attrition_output_loss: 0.5318 - val_department_output_accuracy: 0.5190 - val_department_output_loss: 1.1652 - val_loss: 1.6869\n",
            "Epoch 38/100\n",
            "\u001b[1m35/35\u001b[0m \u001b[32m━━━━━━━━━━━━━━━━━━━━\u001b[0m\u001b[37m\u001b[0m \u001b[1m0s\u001b[0m 10ms/step - attrition_output_accuracy: 0.9347 - attrition_output_loss: 0.1841 - department_output_accuracy: 0.8575 - department_output_loss: 0.3582 - loss: 0.5422 - val_attrition_output_accuracy: 0.8560 - val_attrition_output_loss: 0.4976 - val_department_output_accuracy: 0.5435 - val_department_output_loss: 1.1307 - val_loss: 1.6218\n",
            "Epoch 39/100\n",
            "\u001b[1m35/35\u001b[0m \u001b[32m━━━━━━━━━━━━━━━━━━━━\u001b[0m\u001b[37m\u001b[0m \u001b[1m0s\u001b[0m 11ms/step - attrition_output_accuracy: 0.9480 - attrition_output_loss: 0.1417 - department_output_accuracy: 0.8776 - department_output_loss: 0.3431 - loss: 0.4849 - val_attrition_output_accuracy: 0.8478 - val_attrition_output_loss: 0.5162 - val_department_output_accuracy: 0.5870 - val_department_output_loss: 1.1623 - val_loss: 1.6642\n",
            "Epoch 40/100\n",
            "\u001b[1m35/35\u001b[0m \u001b[32m━━━━━━━━━━━━━━━━━━━━\u001b[0m\u001b[37m\u001b[0m \u001b[1m0s\u001b[0m 7ms/step - attrition_output_accuracy: 0.9428 - attrition_output_loss: 0.1454 - department_output_accuracy: 0.8864 - department_output_loss: 0.3443 - loss: 0.4896 - val_attrition_output_accuracy: 0.8696 - val_attrition_output_loss: 0.5094 - val_department_output_accuracy: 0.5543 - val_department_output_loss: 1.1948 - val_loss: 1.6911\n",
            "Epoch 41/100\n",
            "\u001b[1m35/35\u001b[0m \u001b[32m━━━━━━━━━━━━━━━━━━━━\u001b[0m\u001b[37m\u001b[0m \u001b[1m0s\u001b[0m 11ms/step - attrition_output_accuracy: 0.9418 - attrition_output_loss: 0.1430 - department_output_accuracy: 0.8753 - department_output_loss: 0.3251 - loss: 0.4677 - val_attrition_output_accuracy: 0.8641 - val_attrition_output_loss: 0.5479 - val_department_output_accuracy: 0.5734 - val_department_output_loss: 1.1602 - val_loss: 1.6968\n",
            "Epoch 42/100\n",
            "\u001b[1m35/35\u001b[0m \u001b[32m━━━━━━━━━━━━━━━━━━━━\u001b[0m\u001b[37m\u001b[0m \u001b[1m0s\u001b[0m 7ms/step - attrition_output_accuracy: 0.9476 - attrition_output_loss: 0.1418 - department_output_accuracy: 0.9106 - department_output_loss: 0.2785 - loss: 0.4203 - val_attrition_output_accuracy: 0.8451 - val_attrition_output_loss: 0.5583 - val_department_output_accuracy: 0.5788 - val_department_output_loss: 1.1997 - val_loss: 1.7445\n",
            "Epoch 43/100\n",
            "\u001b[1m35/35\u001b[0m \u001b[32m━━━━━━━━━━━━━━━━━━━━\u001b[0m\u001b[37m\u001b[0m \u001b[1m0s\u001b[0m 8ms/step - attrition_output_accuracy: 0.9579 - attrition_output_loss: 0.1251 - department_output_accuracy: 0.8812 - department_output_loss: 0.3206 - loss: 0.4453 - val_attrition_output_accuracy: 0.8315 - val_attrition_output_loss: 0.5667 - val_department_output_accuracy: 0.5625 - val_department_output_loss: 1.2322 - val_loss: 1.7836\n",
            "Epoch 44/100\n",
            "\u001b[1m35/35\u001b[0m \u001b[32m━━━━━━━━━━━━━━━━━━━━\u001b[0m\u001b[37m\u001b[0m \u001b[1m0s\u001b[0m 7ms/step - attrition_output_accuracy: 0.9553 - attrition_output_loss: 0.1311 - department_output_accuracy: 0.8964 - department_output_loss: 0.2823 - loss: 0.4135 - val_attrition_output_accuracy: 0.8614 - val_attrition_output_loss: 0.5715 - val_department_output_accuracy: 0.5163 - val_department_output_loss: 1.2584 - val_loss: 1.8171\n",
            "Epoch 45/100\n",
            "\u001b[1m35/35\u001b[0m \u001b[32m━━━━━━━━━━━━━━━━━━━━\u001b[0m\u001b[37m\u001b[0m \u001b[1m0s\u001b[0m 8ms/step - attrition_output_accuracy: 0.9548 - attrition_output_loss: 0.1213 - department_output_accuracy: 0.9035 - department_output_loss: 0.2901 - loss: 0.4115 - val_attrition_output_accuracy: 0.8397 - val_attrition_output_loss: 0.5801 - val_department_output_accuracy: 0.5353 - val_department_output_loss: 1.2898 - val_loss: 1.8521\n",
            "Epoch 46/100\n",
            "\u001b[1m35/35\u001b[0m \u001b[32m━━━━━━━━━━━━━━━━━━━━\u001b[0m\u001b[37m\u001b[0m \u001b[1m0s\u001b[0m 8ms/step - attrition_output_accuracy: 0.9562 - attrition_output_loss: 0.1283 - department_output_accuracy: 0.9073 - department_output_loss: 0.2852 - loss: 0.4133 - val_attrition_output_accuracy: 0.8587 - val_attrition_output_loss: 0.6112 - val_department_output_accuracy: 0.5707 - val_department_output_loss: 1.3105 - val_loss: 1.9033\n",
            "Epoch 47/100\n",
            "\u001b[1m35/35\u001b[0m \u001b[32m━━━━━━━━━━━━━━━━━━━━\u001b[0m\u001b[37m\u001b[0m \u001b[1m0s\u001b[0m 9ms/step - attrition_output_accuracy: 0.9539 - attrition_output_loss: 0.1115 - department_output_accuracy: 0.9236 - department_output_loss: 0.2638 - loss: 0.3753 - val_attrition_output_accuracy: 0.8587 - val_attrition_output_loss: 0.5831 - val_department_output_accuracy: 0.5299 - val_department_output_loss: 1.3193 - val_loss: 1.8882\n",
            "Epoch 48/100\n",
            "\u001b[1m35/35\u001b[0m \u001b[32m━━━━━━━━━━━━━━━━━━━━\u001b[0m\u001b[37m\u001b[0m \u001b[1m0s\u001b[0m 8ms/step - attrition_output_accuracy: 0.9678 - attrition_output_loss: 0.1085 - department_output_accuracy: 0.9205 - department_output_loss: 0.2565 - loss: 0.3651 - val_attrition_output_accuracy: 0.8614 - val_attrition_output_loss: 0.6205 - val_department_output_accuracy: 0.5571 - val_department_output_loss: 1.3088 - val_loss: 1.9115\n",
            "Epoch 49/100\n",
            "\u001b[1m35/35\u001b[0m \u001b[32m━━━━━━━━━━━━━━━━━━━━\u001b[0m\u001b[37m\u001b[0m \u001b[1m0s\u001b[0m 9ms/step - attrition_output_accuracy: 0.9596 - attrition_output_loss: 0.1049 - department_output_accuracy: 0.9215 - department_output_loss: 0.2449 - loss: 0.3496 - val_attrition_output_accuracy: 0.8587 - val_attrition_output_loss: 0.6110 - val_department_output_accuracy: 0.5652 - val_department_output_loss: 1.3834 - val_loss: 1.9851\n",
            "Epoch 50/100\n",
            "\u001b[1m35/35\u001b[0m \u001b[32m━━━━━━━━━━━━━━━━━━━━\u001b[0m\u001b[37m\u001b[0m \u001b[1m0s\u001b[0m 10ms/step - attrition_output_accuracy: 0.9651 - attrition_output_loss: 0.0986 - department_output_accuracy: 0.9197 - department_output_loss: 0.2403 - loss: 0.3388 - val_attrition_output_accuracy: 0.8424 - val_attrition_output_loss: 0.6271 - val_department_output_accuracy: 0.5625 - val_department_output_loss: 1.4225 - val_loss: 2.0296\n",
            "Epoch 51/100\n",
            "\u001b[1m35/35\u001b[0m \u001b[32m━━━━━━━━━━━━━━━━━━━━\u001b[0m\u001b[37m\u001b[0m \u001b[1m0s\u001b[0m 8ms/step - attrition_output_accuracy: 0.9583 - attrition_output_loss: 0.1107 - department_output_accuracy: 0.9223 - department_output_loss: 0.2302 - loss: 0.3408 - val_attrition_output_accuracy: 0.8505 - val_attrition_output_loss: 0.6335 - val_department_output_accuracy: 0.5707 - val_department_output_loss: 1.4084 - val_loss: 2.0222\n",
            "Epoch 52/100\n",
            "\u001b[1m35/35\u001b[0m \u001b[32m━━━━━━━━━━━━━━━━━━━━\u001b[0m\u001b[37m\u001b[0m \u001b[1m0s\u001b[0m 11ms/step - attrition_output_accuracy: 0.9719 - attrition_output_loss: 0.0851 - department_output_accuracy: 0.9345 - department_output_loss: 0.2022 - loss: 0.2874 - val_attrition_output_accuracy: 0.8587 - val_attrition_output_loss: 0.6615 - val_department_output_accuracy: 0.5543 - val_department_output_loss: 1.4531 - val_loss: 2.0902\n",
            "Epoch 53/100\n",
            "\u001b[1m35/35\u001b[0m \u001b[32m━━━━━━━━━━━━━━━━━━━━\u001b[0m\u001b[37m\u001b[0m \u001b[1m0s\u001b[0m 9ms/step - attrition_output_accuracy: 0.9698 - attrition_output_loss: 0.0994 - department_output_accuracy: 0.9419 - department_output_loss: 0.2083 - loss: 0.3076 - val_attrition_output_accuracy: 0.8533 - val_attrition_output_loss: 0.6943 - val_department_output_accuracy: 0.5408 - val_department_output_loss: 1.5229 - val_loss: 2.2061\n",
            "Epoch 54/100\n",
            "\u001b[1m35/35\u001b[0m \u001b[32m━━━━━━━━━━━━━━━━━━━━\u001b[0m\u001b[37m\u001b[0m \u001b[1m0s\u001b[0m 7ms/step - attrition_output_accuracy: 0.9711 - attrition_output_loss: 0.0880 - department_output_accuracy: 0.9432 - department_output_loss: 0.1984 - loss: 0.2864 - val_attrition_output_accuracy: 0.8342 - val_attrition_output_loss: 0.6710 - val_department_output_accuracy: 0.5462 - val_department_output_loss: 1.4610 - val_loss: 2.1138\n",
            "Epoch 55/100\n",
            "\u001b[1m35/35\u001b[0m \u001b[32m━━━━━━━━━━━━━━━━━━━━\u001b[0m\u001b[37m\u001b[0m \u001b[1m0s\u001b[0m 7ms/step - attrition_output_accuracy: 0.9850 - attrition_output_loss: 0.0743 - department_output_accuracy: 0.9528 - department_output_loss: 0.1869 - loss: 0.2610 - val_attrition_output_accuracy: 0.8397 - val_attrition_output_loss: 0.6893 - val_department_output_accuracy: 0.5462 - val_department_output_loss: 1.5274 - val_loss: 2.2029\n",
            "Epoch 56/100\n",
            "\u001b[1m35/35\u001b[0m \u001b[32m━━━━━━━━━━━━━━━━━━━━\u001b[0m\u001b[37m\u001b[0m \u001b[1m0s\u001b[0m 6ms/step - attrition_output_accuracy: 0.9752 - attrition_output_loss: 0.0836 - department_output_accuracy: 0.9442 - department_output_loss: 0.1982 - loss: 0.2819 - val_attrition_output_accuracy: 0.8234 - val_attrition_output_loss: 0.7343 - val_department_output_accuracy: 0.5190 - val_department_output_loss: 1.5357 - val_loss: 2.2503\n",
            "Epoch 57/100\n",
            "\u001b[1m35/35\u001b[0m \u001b[32m━━━━━━━━━━━━━━━━━━━━\u001b[0m\u001b[37m\u001b[0m \u001b[1m0s\u001b[0m 7ms/step - attrition_output_accuracy: 0.9697 - attrition_output_loss: 0.0846 - department_output_accuracy: 0.9529 - department_output_loss: 0.1788 - loss: 0.2634 - val_attrition_output_accuracy: 0.8533 - val_attrition_output_loss: 0.7322 - val_department_output_accuracy: 0.5272 - val_department_output_loss: 1.5658 - val_loss: 2.2807\n",
            "Epoch 58/100\n",
            "\u001b[1m35/35\u001b[0m \u001b[32m━━━━━━━━━━━━━━━━━━━━\u001b[0m\u001b[37m\u001b[0m \u001b[1m0s\u001b[0m 7ms/step - attrition_output_accuracy: 0.9798 - attrition_output_loss: 0.0764 - department_output_accuracy: 0.9346 - department_output_loss: 0.1876 - loss: 0.2640 - val_attrition_output_accuracy: 0.8315 - val_attrition_output_loss: 0.7364 - val_department_output_accuracy: 0.5761 - val_department_output_loss: 1.5859 - val_loss: 2.3023\n",
            "Epoch 59/100\n",
            "\u001b[1m35/35\u001b[0m \u001b[32m━━━━━━━━━━━━━━━━━━━━\u001b[0m\u001b[37m\u001b[0m \u001b[1m0s\u001b[0m 8ms/step - attrition_output_accuracy: 0.9689 - attrition_output_loss: 0.0812 - department_output_accuracy: 0.9532 - department_output_loss: 0.1730 - loss: 0.2542 - val_attrition_output_accuracy: 0.8641 - val_attrition_output_loss: 0.7305 - val_department_output_accuracy: 0.5435 - val_department_output_loss: 1.5804 - val_loss: 2.2921\n",
            "Epoch 60/100\n",
            "\u001b[1m35/35\u001b[0m \u001b[32m━━━━━━━━━━━━━━━━━━━━\u001b[0m\u001b[37m\u001b[0m \u001b[1m0s\u001b[0m 7ms/step - attrition_output_accuracy: 0.9670 - attrition_output_loss: 0.0758 - department_output_accuracy: 0.9550 - department_output_loss: 0.1644 - loss: 0.2402 - val_attrition_output_accuracy: 0.8641 - val_attrition_output_loss: 0.7470 - val_department_output_accuracy: 0.5543 - val_department_output_loss: 1.6117 - val_loss: 2.3354\n",
            "Epoch 61/100\n",
            "\u001b[1m35/35\u001b[0m \u001b[32m━━━━━━━━━━━━━━━━━━━━\u001b[0m\u001b[37m\u001b[0m \u001b[1m0s\u001b[0m 9ms/step - attrition_output_accuracy: 0.9719 - attrition_output_loss: 0.0800 - department_output_accuracy: 0.9679 - department_output_loss: 0.1488 - loss: 0.2288 - val_attrition_output_accuracy: 0.8587 - val_attrition_output_loss: 0.7671 - val_department_output_accuracy: 0.6033 - val_department_output_loss: 1.7287 - val_loss: 2.4766\n",
            "Epoch 62/100\n",
            "\u001b[1m35/35\u001b[0m \u001b[32m━━━━━━━━━━━━━━━━━━━━\u001b[0m\u001b[37m\u001b[0m \u001b[1m0s\u001b[0m 8ms/step - attrition_output_accuracy: 0.9762 - attrition_output_loss: 0.0677 - department_output_accuracy: 0.9552 - department_output_loss: 0.1536 - loss: 0.2214 - val_attrition_output_accuracy: 0.8397 - val_attrition_output_loss: 0.7818 - val_department_output_accuracy: 0.5489 - val_department_output_loss: 1.6958 - val_loss: 2.4562\n",
            "Epoch 63/100\n",
            "\u001b[1m35/35\u001b[0m \u001b[32m━━━━━━━━━━━━━━━━━━━━\u001b[0m\u001b[37m\u001b[0m \u001b[1m0s\u001b[0m 6ms/step - attrition_output_accuracy: 0.9756 - attrition_output_loss: 0.0673 - department_output_accuracy: 0.9714 - department_output_loss: 0.1362 - loss: 0.2035 - val_attrition_output_accuracy: 0.8478 - val_attrition_output_loss: 0.7595 - val_department_output_accuracy: 0.5462 - val_department_output_loss: 1.7018 - val_loss: 2.4377\n",
            "Epoch 64/100\n",
            "\u001b[1m35/35\u001b[0m \u001b[32m━━━━━━━━━━━━━━━━━━━━\u001b[0m\u001b[37m\u001b[0m \u001b[1m0s\u001b[0m 8ms/step - attrition_output_accuracy: 0.9811 - attrition_output_loss: 0.0687 - department_output_accuracy: 0.9816 - department_output_loss: 0.1233 - loss: 0.1921 - val_attrition_output_accuracy: 0.8533 - val_attrition_output_loss: 0.8069 - val_department_output_accuracy: 0.5136 - val_department_output_loss: 1.7499 - val_loss: 2.5350\n",
            "Epoch 65/100\n",
            "\u001b[1m35/35\u001b[0m \u001b[32m━━━━━━━━━━━━━━━━━━━━\u001b[0m\u001b[37m\u001b[0m \u001b[1m0s\u001b[0m 10ms/step - attrition_output_accuracy: 0.9896 - attrition_output_loss: 0.0482 - department_output_accuracy: 0.9767 - department_output_loss: 0.1232 - loss: 0.1713 - val_attrition_output_accuracy: 0.8370 - val_attrition_output_loss: 0.7814 - val_department_output_accuracy: 0.5272 - val_department_output_loss: 1.7602 - val_loss: 2.5187\n",
            "Epoch 66/100\n",
            "\u001b[1m35/35\u001b[0m \u001b[32m━━━━━━━━━━━━━━━━━━━━\u001b[0m\u001b[37m\u001b[0m \u001b[1m0s\u001b[0m 7ms/step - attrition_output_accuracy: 0.9834 - attrition_output_loss: 0.0507 - department_output_accuracy: 0.9832 - department_output_loss: 0.1158 - loss: 0.1664 - val_attrition_output_accuracy: 0.8288 - val_attrition_output_loss: 0.8249 - val_department_output_accuracy: 0.5707 - val_department_output_loss: 1.8408 - val_loss: 2.6445\n",
            "Epoch 67/100\n",
            "\u001b[1m35/35\u001b[0m \u001b[32m━━━━━━━━━━━━━━━━━━━━\u001b[0m\u001b[37m\u001b[0m \u001b[1m0s\u001b[0m 7ms/step - attrition_output_accuracy: 0.9827 - attrition_output_loss: 0.0634 - department_output_accuracy: 0.9750 - department_output_loss: 0.1283 - loss: 0.1918 - val_attrition_output_accuracy: 0.8261 - val_attrition_output_loss: 0.8553 - val_department_output_accuracy: 0.5353 - val_department_output_loss: 1.7777 - val_loss: 2.6062\n",
            "Epoch 68/100\n",
            "\u001b[1m35/35\u001b[0m \u001b[32m━━━━━━━━━━━━━━━━━━━━\u001b[0m\u001b[37m\u001b[0m \u001b[1m0s\u001b[0m 6ms/step - attrition_output_accuracy: 0.9865 - attrition_output_loss: 0.0561 - department_output_accuracy: 0.9775 - department_output_loss: 0.1089 - loss: 0.1649 - val_attrition_output_accuracy: 0.8505 - val_attrition_output_loss: 0.8333 - val_department_output_accuracy: 0.5353 - val_department_output_loss: 1.7992 - val_loss: 2.6148\n",
            "Epoch 69/100\n",
            "\u001b[1m35/35\u001b[0m \u001b[32m━━━━━━━━━━━━━━━━━━━━\u001b[0m\u001b[37m\u001b[0m \u001b[1m0s\u001b[0m 7ms/step - attrition_output_accuracy: 0.9849 - attrition_output_loss: 0.0476 - department_output_accuracy: 0.9736 - department_output_loss: 0.1217 - loss: 0.1693 - val_attrition_output_accuracy: 0.8342 - val_attrition_output_loss: 0.8568 - val_department_output_accuracy: 0.5136 - val_department_output_loss: 1.9267 - val_loss: 2.7563\n",
            "Epoch 70/100\n",
            "\u001b[1m35/35\u001b[0m \u001b[32m━━━━━━━━━━━━━━━━━━━━\u001b[0m\u001b[37m\u001b[0m \u001b[1m0s\u001b[0m 8ms/step - attrition_output_accuracy: 0.9868 - attrition_output_loss: 0.0512 - department_output_accuracy: 0.9734 - department_output_loss: 0.1154 - loss: 0.1665 - val_attrition_output_accuracy: 0.8614 - val_attrition_output_loss: 0.8770 - val_department_output_accuracy: 0.5027 - val_department_output_loss: 1.9150 - val_loss: 2.7655\n",
            "Epoch 71/100\n",
            "\u001b[1m35/35\u001b[0m \u001b[32m━━━━━━━━━━━━━━━━━━━━\u001b[0m\u001b[37m\u001b[0m \u001b[1m0s\u001b[0m 8ms/step - attrition_output_accuracy: 0.9877 - attrition_output_loss: 0.0456 - department_output_accuracy: 0.9795 - department_output_loss: 0.1014 - loss: 0.1471 - val_attrition_output_accuracy: 0.8342 - val_attrition_output_loss: 0.8935 - val_department_output_accuracy: 0.5408 - val_department_output_loss: 1.9272 - val_loss: 2.7837\n",
            "Epoch 72/100\n",
            "\u001b[1m35/35\u001b[0m \u001b[32m━━━━━━━━━━━━━━━━━━━━\u001b[0m\u001b[37m\u001b[0m \u001b[1m0s\u001b[0m 8ms/step - attrition_output_accuracy: 0.9868 - attrition_output_loss: 0.0465 - department_output_accuracy: 0.9872 - department_output_loss: 0.1038 - loss: 0.1503 - val_attrition_output_accuracy: 0.8342 - val_attrition_output_loss: 0.8710 - val_department_output_accuracy: 0.5489 - val_department_output_loss: 1.9960 - val_loss: 2.8318\n",
            "Epoch 73/100\n",
            "\u001b[1m35/35\u001b[0m \u001b[32m━━━━━━━━━━━━━━━━━━━━\u001b[0m\u001b[37m\u001b[0m \u001b[1m0s\u001b[0m 11ms/step - attrition_output_accuracy: 0.9877 - attrition_output_loss: 0.0514 - department_output_accuracy: 0.9863 - department_output_loss: 0.0831 - loss: 0.1343 - val_attrition_output_accuracy: 0.8424 - val_attrition_output_loss: 0.8706 - val_department_output_accuracy: 0.5272 - val_department_output_loss: 2.0502 - val_loss: 2.8909\n",
            "Epoch 74/100\n",
            "\u001b[1m35/35\u001b[0m \u001b[32m━━━━━━━━━━━━━━━━━━━━\u001b[0m\u001b[37m\u001b[0m \u001b[1m0s\u001b[0m 7ms/step - attrition_output_accuracy: 0.9804 - attrition_output_loss: 0.0538 - department_output_accuracy: 0.9905 - department_output_loss: 0.0835 - loss: 0.1374 - val_attrition_output_accuracy: 0.8451 - val_attrition_output_loss: 0.9280 - val_department_output_accuracy: 0.5380 - val_department_output_loss: 2.0427 - val_loss: 2.9373\n",
            "Epoch 75/100\n",
            "\u001b[1m35/35\u001b[0m \u001b[32m━━━━━━━━━━━━━━━━━━━━\u001b[0m\u001b[37m\u001b[0m \u001b[1m0s\u001b[0m 9ms/step - attrition_output_accuracy: 0.9855 - attrition_output_loss: 0.0489 - department_output_accuracy: 0.9836 - department_output_loss: 0.0842 - loss: 0.1332 - val_attrition_output_accuracy: 0.8397 - val_attrition_output_loss: 0.9740 - val_department_output_accuracy: 0.5272 - val_department_output_loss: 2.0528 - val_loss: 2.9907\n",
            "Epoch 76/100\n",
            "\u001b[1m35/35\u001b[0m \u001b[32m━━━━━━━━━━━━━━━━━━━━\u001b[0m\u001b[37m\u001b[0m \u001b[1m0s\u001b[0m 8ms/step - attrition_output_accuracy: 0.9863 - attrition_output_loss: 0.0506 - department_output_accuracy: 0.9809 - department_output_loss: 0.0853 - loss: 0.1359 - val_attrition_output_accuracy: 0.8533 - val_attrition_output_loss: 0.9289 - val_department_output_accuracy: 0.5217 - val_department_output_loss: 2.0871 - val_loss: 2.9814\n",
            "Epoch 77/100\n",
            "\u001b[1m35/35\u001b[0m \u001b[32m━━━━━━━━━━━━━━━━━━━━\u001b[0m\u001b[37m\u001b[0m \u001b[1m0s\u001b[0m 10ms/step - attrition_output_accuracy: 0.9932 - attrition_output_loss: 0.0313 - department_output_accuracy: 0.9948 - department_output_loss: 0.0648 - loss: 0.0960 - val_attrition_output_accuracy: 0.8370 - val_attrition_output_loss: 0.9555 - val_department_output_accuracy: 0.5326 - val_department_output_loss: 2.1234 - val_loss: 3.0499\n",
            "Epoch 78/100\n",
            "\u001b[1m35/35\u001b[0m \u001b[32m━━━━━━━━━━━━━━━━━━━━\u001b[0m\u001b[37m\u001b[0m \u001b[1m0s\u001b[0m 8ms/step - attrition_output_accuracy: 0.9922 - attrition_output_loss: 0.0352 - department_output_accuracy: 0.9866 - department_output_loss: 0.0771 - loss: 0.1123 - val_attrition_output_accuracy: 0.8478 - val_attrition_output_loss: 0.9534 - val_department_output_accuracy: 0.5435 - val_department_output_loss: 2.1873 - val_loss: 3.1019\n",
            "Epoch 79/100\n",
            "\u001b[1m35/35\u001b[0m \u001b[32m━━━━━━━━━━━━━━━━━━━━\u001b[0m\u001b[37m\u001b[0m \u001b[1m0s\u001b[0m 8ms/step - attrition_output_accuracy: 0.9963 - attrition_output_loss: 0.0349 - department_output_accuracy: 0.9887 - department_output_loss: 0.0695 - loss: 0.1044 - val_attrition_output_accuracy: 0.8533 - val_attrition_output_loss: 0.9763 - val_department_output_accuracy: 0.5462 - val_department_output_loss: 2.2132 - val_loss: 3.1482\n",
            "Epoch 80/100\n",
            "\u001b[1m35/35\u001b[0m \u001b[32m━━━━━━━━━━━━━━━━━━━━\u001b[0m\u001b[37m\u001b[0m \u001b[1m0s\u001b[0m 8ms/step - attrition_output_accuracy: 0.9933 - attrition_output_loss: 0.0334 - department_output_accuracy: 0.9909 - department_output_loss: 0.0741 - loss: 0.1076 - val_attrition_output_accuracy: 0.8370 - val_attrition_output_loss: 1.0033 - val_department_output_accuracy: 0.5190 - val_department_output_loss: 2.2219 - val_loss: 3.1866\n",
            "Epoch 81/100\n",
            "\u001b[1m35/35\u001b[0m \u001b[32m━━━━━━━━━━━━━━━━━━━━\u001b[0m\u001b[37m\u001b[0m \u001b[1m0s\u001b[0m 6ms/step - attrition_output_accuracy: 0.9896 - attrition_output_loss: 0.0299 - department_output_accuracy: 0.9926 - department_output_loss: 0.0617 - loss: 0.0916 - val_attrition_output_accuracy: 0.8342 - val_attrition_output_loss: 1.0051 - val_department_output_accuracy: 0.5190 - val_department_output_loss: 2.2396 - val_loss: 3.2176\n",
            "Epoch 82/100\n",
            "\u001b[1m35/35\u001b[0m \u001b[32m━━━━━━━━━━━━━━━━━━━━\u001b[0m\u001b[37m\u001b[0m \u001b[1m0s\u001b[0m 8ms/step - attrition_output_accuracy: 0.9852 - attrition_output_loss: 0.0397 - department_output_accuracy: 0.9868 - department_output_loss: 0.0738 - loss: 0.1135 - val_attrition_output_accuracy: 0.8505 - val_attrition_output_loss: 1.0238 - val_department_output_accuracy: 0.5598 - val_department_output_loss: 2.3416 - val_loss: 3.3230\n",
            "Epoch 83/100\n",
            "\u001b[1m35/35\u001b[0m \u001b[32m━━━━━━━━━━━━━━━━━━━━\u001b[0m\u001b[37m\u001b[0m \u001b[1m0s\u001b[0m 7ms/step - attrition_output_accuracy: 0.9910 - attrition_output_loss: 0.0306 - department_output_accuracy: 0.9859 - department_output_loss: 0.0633 - loss: 0.0939 - val_attrition_output_accuracy: 0.8451 - val_attrition_output_loss: 1.0377 - val_department_output_accuracy: 0.5516 - val_department_output_loss: 2.3140 - val_loss: 3.3066\n",
            "Epoch 84/100\n",
            "\u001b[1m35/35\u001b[0m \u001b[32m━━━━━━━━━━━━━━━━━━━━\u001b[0m\u001b[37m\u001b[0m \u001b[1m0s\u001b[0m 11ms/step - attrition_output_accuracy: 0.9943 - attrition_output_loss: 0.0260 - department_output_accuracy: 0.9950 - department_output_loss: 0.0526 - loss: 0.0786 - val_attrition_output_accuracy: 0.8288 - val_attrition_output_loss: 1.0497 - val_department_output_accuracy: 0.5435 - val_department_output_loss: 2.3799 - val_loss: 3.4033\n",
            "Epoch 85/100\n",
            "\u001b[1m35/35\u001b[0m \u001b[32m━━━━━━━━━━━━━━━━━━━━\u001b[0m\u001b[37m\u001b[0m \u001b[1m0s\u001b[0m 11ms/step - attrition_output_accuracy: 0.9950 - attrition_output_loss: 0.0260 - department_output_accuracy: 0.9930 - department_output_loss: 0.0608 - loss: 0.0868 - val_attrition_output_accuracy: 0.8587 - val_attrition_output_loss: 1.0632 - val_department_output_accuracy: 0.5380 - val_department_output_loss: 2.3180 - val_loss: 3.3363\n",
            "Epoch 86/100\n",
            "\u001b[1m35/35\u001b[0m \u001b[32m━━━━━━━━━━━━━━━━━━━━\u001b[0m\u001b[37m\u001b[0m \u001b[1m0s\u001b[0m 7ms/step - attrition_output_accuracy: 0.9973 - attrition_output_loss: 0.0250 - department_output_accuracy: 0.9943 - department_output_loss: 0.0462 - loss: 0.0711 - val_attrition_output_accuracy: 0.8342 - val_attrition_output_loss: 1.0484 - val_department_output_accuracy: 0.5516 - val_department_output_loss: 2.4235 - val_loss: 3.4326\n",
            "Epoch 87/100\n",
            "\u001b[1m35/35\u001b[0m \u001b[32m━━━━━━━━━━━━━━━━━━━━\u001b[0m\u001b[37m\u001b[0m \u001b[1m0s\u001b[0m 8ms/step - attrition_output_accuracy: 0.9902 - attrition_output_loss: 0.0337 - department_output_accuracy: 0.9886 - department_output_loss: 0.0636 - loss: 0.0973 - val_attrition_output_accuracy: 0.8451 - val_attrition_output_loss: 1.1029 - val_department_output_accuracy: 0.5163 - val_department_output_loss: 2.4260 - val_loss: 3.4686\n",
            "Epoch 88/100\n",
            "\u001b[1m35/35\u001b[0m \u001b[32m━━━━━━━━━━━━━━━━━━━━\u001b[0m\u001b[37m\u001b[0m \u001b[1m0s\u001b[0m 8ms/step - attrition_output_accuracy: 0.9962 - attrition_output_loss: 0.0233 - department_output_accuracy: 0.9930 - department_output_loss: 0.0477 - loss: 0.0711 - val_attrition_output_accuracy: 0.8560 - val_attrition_output_loss: 1.0921 - val_department_output_accuracy: 0.5272 - val_department_output_loss: 2.5030 - val_loss: 3.5491\n",
            "Epoch 89/100\n",
            "\u001b[1m35/35\u001b[0m \u001b[32m━━━━━━━━━━━━━━━━━━━━\u001b[0m\u001b[37m\u001b[0m \u001b[1m0s\u001b[0m 7ms/step - attrition_output_accuracy: 0.9946 - attrition_output_loss: 0.0252 - department_output_accuracy: 0.9926 - department_output_loss: 0.0546 - loss: 0.0798 - val_attrition_output_accuracy: 0.8397 - val_attrition_output_loss: 1.0848 - val_department_output_accuracy: 0.5516 - val_department_output_loss: 2.4942 - val_loss: 3.5283\n",
            "Epoch 90/100\n",
            "\u001b[1m35/35\u001b[0m \u001b[32m━━━━━━━━━━━━━━━━━━━━\u001b[0m\u001b[37m\u001b[0m \u001b[1m0s\u001b[0m 8ms/step - attrition_output_accuracy: 0.9961 - attrition_output_loss: 0.0220 - department_output_accuracy: 0.9933 - department_output_loss: 0.0427 - loss: 0.0647 - val_attrition_output_accuracy: 0.8342 - val_attrition_output_loss: 1.1284 - val_department_output_accuracy: 0.5245 - val_department_output_loss: 2.4824 - val_loss: 3.5681\n",
            "Epoch 91/100\n",
            "\u001b[1m35/35\u001b[0m \u001b[32m━━━━━━━━━━━━━━━━━━━━\u001b[0m\u001b[37m\u001b[0m \u001b[1m0s\u001b[0m 9ms/step - attrition_output_accuracy: 0.9902 - attrition_output_loss: 0.0254 - department_output_accuracy: 0.9941 - department_output_loss: 0.0481 - loss: 0.0734 - val_attrition_output_accuracy: 0.8505 - val_attrition_output_loss: 1.1071 - val_department_output_accuracy: 0.5245 - val_department_output_loss: 2.5213 - val_loss: 3.5873\n",
            "Epoch 92/100\n",
            "\u001b[1m35/35\u001b[0m \u001b[32m━━━━━━━━━━━━━━━━━━━━\u001b[0m\u001b[37m\u001b[0m \u001b[1m0s\u001b[0m 11ms/step - attrition_output_accuracy: 0.9990 - attrition_output_loss: 0.0165 - department_output_accuracy: 0.9936 - department_output_loss: 0.0438 - loss: 0.0603 - val_attrition_output_accuracy: 0.8315 - val_attrition_output_loss: 1.1793 - val_department_output_accuracy: 0.5516 - val_department_output_loss: 2.4944 - val_loss: 3.6274\n",
            "Epoch 93/100\n",
            "\u001b[1m35/35\u001b[0m \u001b[32m━━━━━━━━━━━━━━━━━━━━\u001b[0m\u001b[37m\u001b[0m \u001b[1m0s\u001b[0m 6ms/step - attrition_output_accuracy: 0.9942 - attrition_output_loss: 0.0225 - department_output_accuracy: 0.9951 - department_output_loss: 0.0433 - loss: 0.0659 - val_attrition_output_accuracy: 0.8315 - val_attrition_output_loss: 1.1629 - val_department_output_accuracy: 0.5082 - val_department_output_loss: 2.5378 - val_loss: 3.6588\n",
            "Epoch 94/100\n",
            "\u001b[1m35/35\u001b[0m \u001b[32m━━━━━━━━━━━━━━━━━━━━\u001b[0m\u001b[37m\u001b[0m \u001b[1m0s\u001b[0m 6ms/step - attrition_output_accuracy: 0.9943 - attrition_output_loss: 0.0204 - department_output_accuracy: 0.9914 - department_output_loss: 0.0403 - loss: 0.0608 - val_attrition_output_accuracy: 0.8397 - val_attrition_output_loss: 1.1675 - val_department_output_accuracy: 0.5408 - val_department_output_loss: 2.5854 - val_loss: 3.7146\n",
            "Epoch 95/100\n",
            "\u001b[1m35/35\u001b[0m \u001b[32m━━━━━━━━━━━━━━━━━━━━\u001b[0m\u001b[37m\u001b[0m \u001b[1m0s\u001b[0m 8ms/step - attrition_output_accuracy: 0.9966 - attrition_output_loss: 0.0183 - department_output_accuracy: 0.9989 - department_output_loss: 0.0350 - loss: 0.0533 - val_attrition_output_accuracy: 0.8179 - val_attrition_output_loss: 1.2178 - val_department_output_accuracy: 0.5136 - val_department_output_loss: 2.5727 - val_loss: 3.7398\n",
            "Epoch 96/100\n",
            "\u001b[1m35/35\u001b[0m \u001b[32m━━━━━━━━━━━━━━━━━━━━\u001b[0m\u001b[37m\u001b[0m \u001b[1m0s\u001b[0m 6ms/step - attrition_output_accuracy: 0.9961 - attrition_output_loss: 0.0175 - department_output_accuracy: 0.9953 - department_output_loss: 0.0369 - loss: 0.0544 - val_attrition_output_accuracy: 0.8614 - val_attrition_output_loss: 1.2459 - val_department_output_accuracy: 0.5462 - val_department_output_loss: 2.6716 - val_loss: 3.8572\n",
            "Epoch 97/100\n",
            "\u001b[1m35/35\u001b[0m \u001b[32m━━━━━━━━━━━━━━━━━━━━\u001b[0m\u001b[37m\u001b[0m \u001b[1m0s\u001b[0m 9ms/step - attrition_output_accuracy: 0.9974 - attrition_output_loss: 0.0200 - department_output_accuracy: 0.9969 - department_output_loss: 0.0361 - loss: 0.0561 - val_attrition_output_accuracy: 0.8207 - val_attrition_output_loss: 1.2302 - val_department_output_accuracy: 0.5163 - val_department_output_loss: 2.7070 - val_loss: 3.8831\n",
            "Epoch 98/100\n",
            "\u001b[1m35/35\u001b[0m \u001b[32m━━━━━━━━━━━━━━━━━━━━\u001b[0m\u001b[37m\u001b[0m \u001b[1m0s\u001b[0m 10ms/step - attrition_output_accuracy: 0.9969 - attrition_output_loss: 0.0162 - department_output_accuracy: 0.9930 - department_output_loss: 0.0386 - loss: 0.0548 - val_attrition_output_accuracy: 0.8370 - val_attrition_output_loss: 1.2417 - val_department_output_accuracy: 0.5516 - val_department_output_loss: 2.6537 - val_loss: 3.8378\n",
            "Epoch 99/100\n",
            "\u001b[1m35/35\u001b[0m \u001b[32m━━━━━━━━━━━━━━━━━━━━\u001b[0m\u001b[37m\u001b[0m \u001b[1m0s\u001b[0m 7ms/step - attrition_output_accuracy: 0.9972 - attrition_output_loss: 0.0168 - department_output_accuracy: 0.9953 - department_output_loss: 0.0379 - loss: 0.0546 - val_attrition_output_accuracy: 0.8288 - val_attrition_output_loss: 1.2549 - val_department_output_accuracy: 0.5299 - val_department_output_loss: 2.6591 - val_loss: 3.8540\n",
            "Epoch 100/100\n",
            "\u001b[1m35/35\u001b[0m \u001b[32m━━━━━━━━━━━━━━━━━━━━\u001b[0m\u001b[37m\u001b[0m \u001b[1m0s\u001b[0m 9ms/step - attrition_output_accuracy: 0.9941 - attrition_output_loss: 0.0241 - department_output_accuracy: 0.9988 - department_output_loss: 0.0281 - loss: 0.0522 - val_attrition_output_accuracy: 0.8098 - val_attrition_output_loss: 1.2704 - val_department_output_accuracy: 0.5054 - val_department_output_loss: 2.6376 - val_loss: 3.8603\n"
          ]
        }
      ],
      "source": [
        "history = model.fit(\n",
        "    {'input': X_train_scaled},  # Input dictionary with the name\n",
        "    [y_dept_train_encoded, y_att_train_encoded],  # Outputs\n",
        "    validation_data=(\n",
        "        {'input': X_test_scaled},  # Validation input\n",
        "        [y_dept_test_encoded, y_att_test_encoded]  # Validation outputs\n",
        "    ),\n",
        "    epochs=100,\n",
        "    batch_size=32\n",
        ")\n"
      ]
    },
    {
      "cell_type": "code",
      "execution_count": 23,
      "metadata": {
        "colab": {
          "base_uri": "https://localhost:8080/"
        },
        "id": "VsMoaQlgGc3U",
        "outputId": "1bd4e601-e964-4abc-ad83-aeecf6b696be"
      },
      "outputs": [
        {
          "name": "stdout",
          "output_type": "stream",
          "text": [
            "12/12 - 0s - 8ms/step - attrition_output_accuracy: 0.8098 - attrition_output_loss: 1.2704 - department_output_accuracy: 0.5054 - department_output_loss: 2.6376 - loss: 3.8603\n"
          ]
        }
      ],
      "source": [
        "# Evaluate the model with the testing data\n",
        "model_loss, dept_loss, att_loss, dept_accuracy, att_accuracy = model.evaluate(\n",
        "    {'input': X_test_scaled},\n",
        "    [y_dept_test_encoded, y_att_test_encoded],\n",
        "    verbose=2\n",
        ")\n",
        "\n"
      ]
    },
    {
      "cell_type": "code",
      "execution_count": 24,
      "metadata": {
        "colab": {
          "base_uri": "https://localhost:8080/"
        },
        "id": "ZlCtlHi0Vt54",
        "outputId": "bc21ef3e-80c2-4b38-9c29-79515bc23dec"
      },
      "outputs": [
        {
          "name": "stdout",
          "output_type": "stream",
          "text": [
            "Department Accuracy: 0.8097826242446899\n",
            "Attrition Accuracy: 0.5054348111152649\n"
          ]
        }
      ],
      "source": [
        "# Print the accuracy for both department and attrition\n",
        "print(f\"Department Accuracy: {dept_accuracy}\")\n",
        "print(f\"Attrition Accuracy: {att_accuracy}\")\n"
      ]
    },
    {
      "cell_type": "markdown",
      "metadata": {
        "id": "eGSyfsZfWOQM"
      },
      "source": [
        "# Summary\n",
        "\n",
        "In the provided space below, briefly answer the following questions.\n",
        "\n",
        "1. Is accuracy the best metric to use on this data? Why or why not?\n",
        "\n",
        "2. What activation functions did you choose for your output layers, and why?\n",
        "\n",
        "3. Can you name a few ways that this model might be improved?"
      ]
    },
    {
      "cell_type": "markdown",
      "metadata": {
        "id": "pi9SLpFnWvbF"
      },
      "source": [
        "YOUR ANSWERS HERE\n",
        "\n",
        "1. I think accuracy was the best metric to use, because we are trying to predict on if a person will leave there job or not. \n",
        "2. For my output layers, for dept i used \"softmax\" since we are dealling with multiclass. For att, i used sigmoid because we are looking for a 1 or a 0 and sigmoid returns that, ie if over 0.5 then 1 and under 0.5 is 0.\n",
        "3. I think the model could be improved by adding one or two more hidden layers. I also think that the features could be engineered more to be more contextual. I also think there was a few features that were not used that could maybe have helped the model. "
      ]
    },
    {
      "cell_type": "markdown",
      "metadata": {},
      "source": []
    }
  ],
  "metadata": {
    "colab": {
      "provenance": []
    },
    "kernelspec": {
      "display_name": "dev",
      "language": "python",
      "name": "python3"
    },
    "language_info": {
      "codemirror_mode": {
        "name": "ipython",
        "version": 3
      },
      "file_extension": ".py",
      "mimetype": "text/x-python",
      "name": "python",
      "nbconvert_exporter": "python",
      "pygments_lexer": "ipython3",
      "version": "3.10.14"
    }
  },
  "nbformat": 4,
  "nbformat_minor": 0
}
